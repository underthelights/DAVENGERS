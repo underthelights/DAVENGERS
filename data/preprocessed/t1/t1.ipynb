{
 "cells": [
  {
   "cell_type": "code",
   "execution_count": 8,
   "metadata": {},
   "outputs": [],
   "source": [
    "import pandas as pd "
   ]
  },
  {
   "cell_type": "code",
   "execution_count": 9,
   "metadata": {},
   "outputs": [
    {
     "name": "stdout",
     "output_type": "stream",
     "text": [
      "['요식/유흥' '음/식료품' '의류/잡화' '스포츠/문화/레저' '유통' '여행/교통'] ['일식/중식/양식' '제과/커피/패스트푸드' '한식' '음/식료품' '기타요식' '패션/잡화' '스포츠/문화/레저용품'\n",
      " '할인점/슈퍼마켓' '유흥' '기타유통' '의복/의류' '숙박' '스포츠/문화/레저' '편의점']\n"
     ]
    }
   ],
   "source": [
    "t1 = pd.read_csv('data/t1_coded2.csv', encoding='UTF-8')\n",
    "print(t1['LG_CAT_NM'].unique(), t1['MD_CAT_NM'].unique())"
   ]
  },
  {
   "cell_type": "markdown",
   "metadata": {},
   "source": [
    "# 숙박"
   ]
  },
  {
   "cell_type": "code",
   "execution_count": 10,
   "metadata": {},
   "outputs": [],
   "source": [
    "t1_accom = t1.loc[t1['MD_CAT_NM']=='숙박'].reset_index()\n",
    "t1_accom = t1_accom.drop(columns='index')\n",
    "t1_accom.to_csv('t1_accom.csv', encoding='UTF-8')"
   ]
  },
  {
   "cell_type": "markdown",
   "metadata": {},
   "source": [
    "# 일식/중식/양식"
   ]
  },
  {
   "cell_type": "code",
   "execution_count": 11,
   "metadata": {},
   "outputs": [],
   "source": [
    "t1_food_foreign = t1.loc[t1['MD_CAT_NM']=='일식/중식/양식'].reset_index()\n",
    "t1_food_foreign = t1_food_foreign.drop(columns='index')\n",
    "t1_food_foreign.to_csv('t1_food_foreign.csv', encoding='UTF-8')"
   ]
  },
  {
   "cell_type": "markdown",
   "metadata": {},
   "source": [
    "# 제과/커피/패스트푸드' '"
   ]
  },
  {
   "cell_type": "code",
   "execution_count": 12,
   "metadata": {},
   "outputs": [],
   "source": [
    "t1_food_cafe = t1.loc[t1['MD_CAT_NM']=='제과/커피/패스트푸드'].reset_index()\n",
    "t1_food_cafe = t1_food_cafe.drop(columns='index')\n",
    "t1_food_cafe.to_csv('t1_food_cafe.csv', encoding='UTF-8')"
   ]
  },
  {
   "cell_type": "markdown",
   "metadata": {},
   "source": [
    "# 한식' '"
   ]
  },
  {
   "cell_type": "code",
   "execution_count": 13,
   "metadata": {},
   "outputs": [],
   "source": [
    "t1_food_kor = t1.loc[t1['MD_CAT_NM']=='한식'].reset_index()\n",
    "t1_food_kor = t1_food_kor.drop(columns='index')\n",
    "t1_food_kor.to_csv('t1_food_kor.csv', encoding='UTF-8')"
   ]
  },
  {
   "cell_type": "markdown",
   "metadata": {},
   "source": [
    "# 음/식료품' '"
   ]
  },
  {
   "cell_type": "code",
   "execution_count": 14,
   "metadata": {},
   "outputs": [],
   "source": [
    "t1_food_igrd = t1.loc[t1['MD_CAT_NM']=='음/식료품'].reset_index()\n",
    "t1_food_igrd = t1_food_igrd.drop(columns='index')\n",
    "t1_food_igrd.to_csv('t1_food_igrd.csv', encoding='UTF-8')"
   ]
  },
  {
   "cell_type": "markdown",
   "metadata": {},
   "source": [
    "# 기타요식' '"
   ]
  },
  {
   "cell_type": "code",
   "execution_count": 15,
   "metadata": {},
   "outputs": [],
   "source": [
    "t1_food_misc = t1.loc[t1['MD_CAT_NM']=='기타요식'].reset_index()\n",
    "t1_food_misc = t1_food_misc.drop(columns='index')\n",
    "t1_food_misc.to_csv('t1_food_misc.csv', encoding='UTF-8')"
   ]
  },
  {
   "cell_type": "markdown",
   "metadata": {},
   "source": [
    "# 패션/잡화'"
   ]
  },
  {
   "cell_type": "code",
   "execution_count": 16,
   "metadata": {},
   "outputs": [],
   "source": [
    "t1_cloth_fashion = t1.loc[t1['MD_CAT_NM']=='기타요식'].reset_index()\n",
    "t1_cloth_fashion = t1_cloth_fashion.drop(columns='index')\n",
    "t1_cloth_fashion.to_csv('t1_cloth_fashion.csv', encoding='UTF-8')"
   ]
  },
  {
   "cell_type": "markdown",
   "metadata": {},
   "source": [
    "# 스포츠/문화/레저용품'"
   ]
  },
  {
   "cell_type": "code",
   "execution_count": 17,
   "metadata": {},
   "outputs": [],
   "source": [
    "t1_culture_sport_item = t1.loc[t1['MD_CAT_NM']=='스포츠/문화/레저용품'].reset_index()\n",
    "t1_culture_sport_item = t1_culture_sport_item.drop(columns='index')\n",
    "t1_culture_sport_item.to_csv('t1_culture_sport_item.csv', encoding='UTF-8')"
   ]
  },
  {
   "cell_type": "markdown",
   "metadata": {},
   "source": [
    "# 할인점/슈퍼마켓' '"
   ]
  },
  {
   "cell_type": "code",
   "execution_count": 18,
   "metadata": {},
   "outputs": [],
   "source": [
    "t1_retail_mart = t1.loc[t1['MD_CAT_NM']=='할인점/슈퍼마켓'].reset_index()\n",
    "t1_retail_mart = t1_retail_mart.drop(columns='index')\n",
    "t1_retail_mart.to_csv('t1_retail_mart.csv', encoding='UTF-8')"
   ]
  },
  {
   "cell_type": "markdown",
   "metadata": {},
   "source": [
    "# 유흥' '"
   ]
  },
  {
   "cell_type": "code",
   "execution_count": 19,
   "metadata": {},
   "outputs": [],
   "source": [
    "t1_culture_ent = t1.loc[t1['MD_CAT_NM']=='유흥'].reset_index()\n",
    "t1_culture_ent = t1_culture_ent.drop(columns='index')\n",
    "t1_culture_ent.to_csv('t1_culture_ent.csv', encoding='UTF-8')"
   ]
  },
  {
   "cell_type": "markdown",
   "metadata": {},
   "source": [
    "# 기타유통' '"
   ]
  },
  {
   "cell_type": "code",
   "execution_count": 20,
   "metadata": {},
   "outputs": [],
   "source": [
    "t1_retail_misc = t1.loc[t1['MD_CAT_NM']=='기타유통'].reset_index()\n",
    "t1_retail_misc = t1_retail_misc.drop(columns='index')\n",
    "t1_retail_misc.to_csv('t1_retail_misc.csv', encoding='UTF-8')"
   ]
  },
  {
   "cell_type": "markdown",
   "metadata": {},
   "source": [
    "# 의복/의류' '"
   ]
  },
  {
   "cell_type": "code",
   "execution_count": 21,
   "metadata": {},
   "outputs": [],
   "source": [
    "t1_cloth_wear = t1.loc[t1['MD_CAT_NM']=='기타유통'].reset_index()\n",
    "t1_cloth_wear = t1_cloth_wear.drop(columns='index')\n",
    "t1_cloth_wear.to_csv('t1_cloth_wear.csv', encoding='UTF-8')"
   ]
  },
  {
   "cell_type": "markdown",
   "metadata": {},
   "source": [
    "# 스포츠/문화/레저"
   ]
  },
  {
   "cell_type": "markdown",
   "metadata": {},
   "source": [
    "# 편의점"
   ]
  },
  {
   "cell_type": "code",
   "execution_count": 22,
   "metadata": {},
   "outputs": [],
   "source": [
    "t1_retail_conv = t1.loc[t1['MD_CAT_NM']=='편의점'].reset_index()\n",
    "t1_retail_conv = t1_retail_conv.drop(columns='index')\n",
    "t1_retail_conv.to_csv('t1_retail_conv.csv', encoding='UTF-8')"
   ]
  },
  {
   "cell_type": "code",
   "execution_count": null,
   "metadata": {},
   "outputs": [],
   "source": []
  }
 ],
 "metadata": {
  "kernelspec": {
   "display_name": "Python 3.9.13 64-bit",
   "language": "python",
   "name": "python3"
  },
  "language_info": {
   "codemirror_mode": {
    "name": "ipython",
    "version": 3
   },
   "file_extension": ".py",
   "mimetype": "text/x-python",
   "name": "python",
   "nbconvert_exporter": "python",
   "pygments_lexer": "ipython3",
   "version": "3.9.13"
  },
  "orig_nbformat": 4,
  "vscode": {
   "interpreter": {
    "hash": "aee8b7b246df8f9039afb4144a1f6fd8d2ca17a180786b69acc140d282b71a49"
   }
  }
 },
 "nbformat": 4,
 "nbformat_minor": 2
}
