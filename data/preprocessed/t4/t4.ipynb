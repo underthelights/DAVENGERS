{
 "cells": [
  {
   "cell_type": "code",
   "execution_count": 30,
   "metadata": {},
   "outputs": [],
   "source": [
    "import pandas as pd "
   ]
  },
  {
   "cell_type": "code",
   "execution_count": 31,
   "metadata": {},
   "outputs": [
    {
     "data": {
      "text/plain": [
       "array(['기타', '레저관광', '테마파크', '공연전시', '키즈', '자연', '테마관광지', '레저/체험', '문화관광',\n",
       "       '음식점', '숙박', '체험'], dtype=object)"
      ]
     },
     "execution_count": 31,
     "metadata": {},
     "output_type": "execute_result"
    }
   ],
   "source": [
    "t4 = pd.read_csv('data/t4_coded2.csv', encoding='UTF-8')\n",
    "t4['CL_NM'].unique()"
   ]
  },
  {
   "cell_type": "markdown",
   "metadata": {},
   "source": [
    "# 레저관광"
   ]
  },
  {
   "cell_type": "code",
   "execution_count": 32,
   "metadata": {},
   "outputs": [],
   "source": [
    "t4_leisure_tourism = t4.loc[t4['CL_NM']=='레저관광'].reset_index()\n",
    "t4_leisure_tourism = t4_leisure_tourism.drop(columns='index')\n",
    "t4_leisure_tourism.to_csv('t4_leisure_tourism.csv', encoding='UTF-8')"
   ]
  },
  {
   "cell_type": "markdown",
   "metadata": {},
   "source": [
    "# '테마파크', "
   ]
  },
  {
   "cell_type": "code",
   "execution_count": 33,
   "metadata": {},
   "outputs": [],
   "source": [
    "t4_theme = t4.loc[t4['CL_NM']=='테마파크'].reset_index()\n",
    "t4_theme = t4_theme.drop(columns='index')\n",
    "t4_theme.to_csv('t4_theme.csv', encoding='UTF-8')"
   ]
  },
  {
   "cell_type": "markdown",
   "metadata": {},
   "source": [
    "# '공연전시'"
   ]
  },
  {
   "cell_type": "code",
   "execution_count": 36,
   "metadata": {},
   "outputs": [],
   "source": [
    "t4_perf_exh = t4.loc[t4['CL_NM']=='공연전시'].reset_index()\n",
    "t4_perf_exh = t4_perf_exh.drop(columns='index')\n",
    "t4_perf_exh.to_csv('t4_perf_exh.csv', encoding='UTF-8')"
   ]
  },
  {
   "cell_type": "markdown",
   "metadata": {},
   "source": [
    "# '키즈'"
   ]
  },
  {
   "cell_type": "code",
   "execution_count": 38,
   "metadata": {},
   "outputs": [],
   "source": [
    "t4_kid = t4.loc[t4['CL_NM']=='키즈'].reset_index()\n",
    "t4_kid = t4_kid.drop(columns='index')\n",
    "t4_kid.to_csv('t4_kid.csv', encoding='UTF-8')"
   ]
  },
  {
   "cell_type": "markdown",
   "metadata": {},
   "source": [
    "\n",
    "# '자연'"
   ]
  },
  {
   "cell_type": "code",
   "execution_count": 39,
   "metadata": {},
   "outputs": [],
   "source": [
    "t4_nature = t4.loc[t4['CL_NM']=='자연'].reset_index()\n",
    "t4_nature = t4_nature.drop(columns='index')\n",
    "t4_nature.to_csv('t4_nature.csv', encoding='UTF-8')"
   ]
  },
  {
   "cell_type": "markdown",
   "metadata": {},
   "source": [
    "\n",
    "# '테마관광지'"
   ]
  },
  {
   "cell_type": "code",
   "execution_count": 40,
   "metadata": {},
   "outputs": [],
   "source": [
    "t4_theme_tourism = t4.loc[t4['CL_NM']=='테마관광지'].reset_index()\n",
    "t4_theme_tourism = t4_theme_tourism.drop(columns='index')\n",
    "t4_theme_tourism.to_csv('t4_theme_tourism.csv', encoding='UTF-8')"
   ]
  },
  {
   "cell_type": "markdown",
   "metadata": {},
   "source": [
    "\n",
    "# '레저/체험'"
   ]
  },
  {
   "cell_type": "code",
   "execution_count": 41,
   "metadata": {},
   "outputs": [],
   "source": [
    "t4_leisure_ex = t4.loc[t4['CL_NM']=='테마관광지'].reset_index()\n",
    "t4_leisure_ex = t4_leisure_ex.drop(columns='index')\n",
    "t4_leisure_ex.to_csv('t4_leisure_ex.csv', encoding='UTF-8')"
   ]
  },
  {
   "cell_type": "markdown",
   "metadata": {},
   "source": [
    "\n",
    "# '문화관광',"
   ]
  },
  {
   "cell_type": "code",
   "execution_count": 42,
   "metadata": {},
   "outputs": [],
   "source": [
    "t4_culture_tourism = t4.loc[t4['CL_NM']=='테마관광지'].reset_index()\n",
    "t4_culture_tourism = t4_culture_tourism.drop(columns='index')\n",
    "t4_culture_tourism.to_csv('t4_culture_tourism.csv', encoding='UTF-8')"
   ]
  },
  {
   "cell_type": "markdown",
   "metadata": {},
   "source": [
    "# '음식점'"
   ]
  },
  {
   "cell_type": "code",
   "execution_count": 43,
   "metadata": {},
   "outputs": [],
   "source": [
    "t4_food = t4.loc[t4['CL_NM']=='기타'].reset_index()\n",
    "t4_food = t4_food.drop(columns='index')\n",
    "t4_food.to_csv('t4_food.csv', encoding='UTF-8')"
   ]
  },
  {
   "cell_type": "markdown",
   "metadata": {},
   "source": [
    "# '체험'"
   ]
  },
  {
   "cell_type": "code",
   "execution_count": 44,
   "metadata": {},
   "outputs": [],
   "source": [
    "t4_exp = t4.loc[t4['CL_NM']=='기타'].reset_index()\n",
    "t4_exp = t4_exp.drop(columns='index')\n",
    "t4_exp.to_csv('t4_exp.csv', encoding='UTF-8')"
   ]
  },
  {
   "cell_type": "markdown",
   "metadata": {},
   "source": [
    "# 기타"
   ]
  },
  {
   "cell_type": "code",
   "execution_count": 45,
   "metadata": {},
   "outputs": [],
   "source": [
    "t4_misc = t4.loc[t4['CL_NM']=='기타'].reset_index()\n",
    "t4_misc = t4_misc.drop(columns='index')\n",
    "t4_misc.to_csv('t4_misc.csv', encoding='UTF-8')"
   ]
  },
  {
   "cell_type": "markdown",
   "metadata": {},
   "source": [
    "# 숙박"
   ]
  },
  {
   "cell_type": "code",
   "execution_count": 46,
   "metadata": {},
   "outputs": [],
   "source": [
    "t4_accom = t4.loc[t4['CL_NM']=='숙박'].reset_index()\n",
    "t4_accom = t4_accom.drop(columns='index')\n",
    "t4_accom.to_csv('t4_accom.csv', encoding='UTF-8')"
   ]
  },
  {
   "cell_type": "code",
   "execution_count": 47,
   "metadata": {},
   "outputs": [
    {
     "data": {
      "text/html": [
       "<div>\n",
       "<style scoped>\n",
       "    .dataframe tbody tr th:only-of-type {\n",
       "        vertical-align: middle;\n",
       "    }\n",
       "\n",
       "    .dataframe tbody tr th {\n",
       "        vertical-align: top;\n",
       "    }\n",
       "\n",
       "    .dataframe thead th {\n",
       "        text-align: right;\n",
       "    }\n",
       "</style>\n",
       "<table border=\"1\" class=\"dataframe\">\n",
       "  <thead>\n",
       "    <tr style=\"text-align: right;\">\n",
       "      <th></th>\n",
       "      <th>CL_NM</th>\n",
       "      <th>TRRSRT_NM</th>\n",
       "      <th>ADDR</th>\n",
       "      <th>ADDR_new</th>\n",
       "      <th>TEL_NO</th>\n",
       "      <th>TOT_ENTRN_NMPR_CO</th>\n",
       "      <th>SETLE_PRICE</th>\n",
       "      <th>ENTRN_DE</th>\n",
       "      <th>SGNG_CD</th>\n",
       "      <th>LGDNG_CD</th>\n",
       "    </tr>\n",
       "  </thead>\n",
       "  <tbody>\n",
       "    <tr>\n",
       "      <th>0</th>\n",
       "      <td>숙박</td>\n",
       "      <td>토스카나호텔</td>\n",
       "      <td>제주 서귀포시 용흥로66번길 158-7</td>\n",
       "      <td>제주특별자치도 서귀포시 강정동</td>\n",
       "      <td>647357000.0</td>\n",
       "      <td>2</td>\n",
       "      <td>166650</td>\n",
       "      <td>20211103</td>\n",
       "      <td>50130</td>\n",
       "      <td>11600</td>\n",
       "    </tr>\n",
       "    <tr>\n",
       "      <th>1</th>\n",
       "      <td>숙박</td>\n",
       "      <td>토스카나호텔</td>\n",
       "      <td>제주 서귀포시 용흥로66번길 158-7</td>\n",
       "      <td>제주특별자치도 서귀포시 강정동</td>\n",
       "      <td>647357000.0</td>\n",
       "      <td>3</td>\n",
       "      <td>82500</td>\n",
       "      <td>20211104</td>\n",
       "      <td>50130</td>\n",
       "      <td>11600</td>\n",
       "    </tr>\n",
       "    <tr>\n",
       "      <th>2</th>\n",
       "      <td>숙박</td>\n",
       "      <td>토스카나호텔</td>\n",
       "      <td>제주 서귀포시 용흥로66번길 158-7</td>\n",
       "      <td>제주특별자치도 서귀포시 강정동</td>\n",
       "      <td>647357000.0</td>\n",
       "      <td>2</td>\n",
       "      <td>53350</td>\n",
       "      <td>20211104</td>\n",
       "      <td>50130</td>\n",
       "      <td>11600</td>\n",
       "    </tr>\n",
       "    <tr>\n",
       "      <th>3</th>\n",
       "      <td>숙박</td>\n",
       "      <td>토스카나호텔</td>\n",
       "      <td>제주 서귀포시 용흥로66번길 158-7</td>\n",
       "      <td>제주특별자치도 서귀포시 강정동</td>\n",
       "      <td>647357000.0</td>\n",
       "      <td>2</td>\n",
       "      <td>166650</td>\n",
       "      <td>20211104</td>\n",
       "      <td>50130</td>\n",
       "      <td>11600</td>\n",
       "    </tr>\n",
       "    <tr>\n",
       "      <th>4</th>\n",
       "      <td>숙박</td>\n",
       "      <td>토스카나호텔</td>\n",
       "      <td>제주 서귀포시 용흥로66번길 158-7</td>\n",
       "      <td>제주특별자치도 서귀포시 강정동</td>\n",
       "      <td>647357000.0</td>\n",
       "      <td>3</td>\n",
       "      <td>72300</td>\n",
       "      <td>20211106</td>\n",
       "      <td>50130</td>\n",
       "      <td>11600</td>\n",
       "    </tr>\n",
       "  </tbody>\n",
       "</table>\n",
       "</div>"
      ],
      "text/plain": [
       "  CL_NM TRRSRT_NM                   ADDR          ADDR_new       TEL_NO  \\\n",
       "0    숙박    토스카나호텔  제주 서귀포시 용흥로66번길 158-7  제주특별자치도 서귀포시 강정동  647357000.0   \n",
       "1    숙박    토스카나호텔  제주 서귀포시 용흥로66번길 158-7  제주특별자치도 서귀포시 강정동  647357000.0   \n",
       "2    숙박    토스카나호텔  제주 서귀포시 용흥로66번길 158-7  제주특별자치도 서귀포시 강정동  647357000.0   \n",
       "3    숙박    토스카나호텔  제주 서귀포시 용흥로66번길 158-7  제주특별자치도 서귀포시 강정동  647357000.0   \n",
       "4    숙박    토스카나호텔  제주 서귀포시 용흥로66번길 158-7  제주특별자치도 서귀포시 강정동  647357000.0   \n",
       "\n",
       "   TOT_ENTRN_NMPR_CO  SETLE_PRICE  ENTRN_DE  SGNG_CD  LGDNG_CD  \n",
       "0                  2       166650  20211103    50130     11600  \n",
       "1                  3        82500  20211104    50130     11600  \n",
       "2                  2        53350  20211104    50130     11600  \n",
       "3                  2       166650  20211104    50130     11600  \n",
       "4                  3        72300  20211106    50130     11600  "
      ]
     },
     "execution_count": 47,
     "metadata": {},
     "output_type": "execute_result"
    }
   ],
   "source": [
    "t4_accom.head()"
   ]
  },
  {
   "cell_type": "markdown",
   "metadata": {},
   "source": [
    "# t1"
   ]
  },
  {
   "cell_type": "code",
   "execution_count": 48,
   "metadata": {},
   "outputs": [
    {
     "name": "stdout",
     "output_type": "stream",
     "text": [
      "['요식/유흥' '음/식료품' '의류/잡화' '스포츠/문화/레저' '유통' '여행/교통'] ['일식/중식/양식' '제과/커피/패스트푸드' '한식' '음/식료품' '기타요식' '패션/잡화' '스포츠/문화/레저용품'\n",
      " '할인점/슈퍼마켓' '유흥' '기타유통' '의복/의류' '숙박' '스포츠/문화/레저' '편의점']\n"
     ]
    }
   ],
   "source": [
    "t1 = pd.read_csv('data/t1_coded2.csv', encoding='UTF-8')\n",
    "print(t1['LG_CAT_NM'].unique(), t1['MD_CAT_NM'].unique())"
   ]
  },
  {
   "cell_type": "markdown",
   "metadata": {},
   "source": []
  },
  {
   "cell_type": "code",
   "execution_count": 49,
   "metadata": {},
   "outputs": [],
   "source": [
    "t1_accom = t1.loc[t1['MD_CAT_NM']=='숙박'].reset_index()\n",
    "t1_accom = t1_accom.drop(columns='index')\n",
    "t1_accom.to_csv('t1_accom.csv', encoding='UTF-8')"
   ]
  },
  {
   "cell_type": "code",
   "execution_count": 2,
   "metadata": {},
   "outputs": [],
   "source": [
    "import pandas as pd"
   ]
  },
  {
   "cell_type": "code",
   "execution_count": 7,
   "metadata": {},
   "outputs": [
    {
     "data": {
      "text/plain": [
       "array(['성산일출봉', '천지연폭포', '천제연폭포', '주상절리대', '산방산 암벽식물지대', '정방폭포', '용머리해안',\n",
       "       '비자림', '만장굴', '여미지식물원', '생각하는정원', '상효원'], dtype=object)"
      ]
     },
     "execution_count": 7,
     "metadata": {},
     "output_type": "execute_result"
    }
   ],
   "source": [
    "t4_nature = pd.read_csv('t4_nature.csv', encoding='UTF-8')\n",
    "t4_nature['TRRSRT_NM'].unique()\n"
   ]
  },
  {
   "cell_type": "code",
   "execution_count": 10,
   "metadata": {},
   "outputs": [],
   "source": [
    "#'성산일출봉'\n",
    "t4_nature_seongsan = t4_nature.loc[t4_nature['TRRSRT_NM']=='성산일출봉'].reset_index()\n",
    "t4_nature_seongsan = t4_nature_seongsan.drop(columns='index')\n",
    "t4_nature_seongsan.to_csv('t4_nature_seongsan.csv', encoding='UTF-8')"
   ]
  },
  {
   "cell_type": "code",
   "execution_count": 11,
   "metadata": {},
   "outputs": [],
   "source": [
    "# , '천지연폭포', \n",
    "t4_nature_cheonji = t4_nature.loc[t4_nature['TRRSRT_NM']=='천지연폭포'].reset_index()\n",
    "t4_nature_cheonji = t4_nature_cheonji.drop(columns='index')\n",
    "t4_nature_cheonji.to_csv('t4_nature_cheonji.csv', encoding='UTF-8')"
   ]
  },
  {
   "cell_type": "code",
   "execution_count": 12,
   "metadata": {},
   "outputs": [],
   "source": [
    "# '천제연폭포', \n",
    "t4_nature_cheonje = t4_nature.loc[t4_nature['TRRSRT_NM']=='천제연폭포'].reset_index()\n",
    "t4_nature_cheonje = t4_nature_cheonje.drop(columns='index')\n",
    "t4_nature_cheonje.to_csv('t4_nature_cheonje.csv', encoding='UTF-8')"
   ]
  },
  {
   "cell_type": "code",
   "execution_count": 13,
   "metadata": {},
   "outputs": [],
   "source": [
    "# '주상절리대', \n",
    "t4_nature_jusang = t4_nature.loc[t4_nature['TRRSRT_NM']=='주상절리대'].reset_index()\n",
    "t4_nature_jusang = t4_nature_jusang.drop(columns='index')\n",
    "t4_nature_jusang.to_csv('t4_nature_jusang.csv', encoding='UTF-8')"
   ]
  },
  {
   "cell_type": "code",
   "execution_count": 14,
   "metadata": {},
   "outputs": [],
   "source": [
    "# '산방산 암벽식물지대',\n",
    "\n",
    "t4_nature_sanbang = t4_nature.loc[t4_nature['TRRSRT_NM']=='산방산 암벽식물지대'].reset_index()\n",
    "t4_nature_sanbang = t4_nature_sanbang.drop(columns='index')\n",
    "t4_nature_sanbang.to_csv('t4_nature_sanbang.csv', encoding='UTF-8')"
   ]
  },
  {
   "cell_type": "code",
   "execution_count": 15,
   "metadata": {},
   "outputs": [],
   "source": [
    " # '정방폭포', \n",
    "t4_nature_jungbang = t4_nature.loc[t4_nature['TRRSRT_NM']=='정방폭포'].reset_index()\n",
    "t4_nature_jungbang = t4_nature_jungbang.drop(columns='index')\n",
    "t4_nature_jungbang.to_csv('t4_nature_jungbang.csv', encoding='UTF-8')"
   ]
  },
  {
   "cell_type": "code",
   "execution_count": 16,
   "metadata": {},
   "outputs": [],
   "source": [
    "# '용머리해안',\n",
    "t4_nature_yongmeori = t4_nature.loc[t4_nature['TRRSRT_NM']=='용머리해안'].reset_index()\n",
    "t4_nature_yongmeori = t4_nature_yongmeori.drop(columns='index')\n",
    "t4_nature_yongmeori.to_csv('t4_nature_yongmeori.csv', encoding='UTF-8')"
   ]
  },
  {
   "cell_type": "code",
   "execution_count": 17,
   "metadata": {},
   "outputs": [],
   "source": [
    "# '비자림', \n",
    "t4_nature_bijarim = t4_nature.loc[t4_nature['TRRSRT_NM']=='비자림'].reset_index()\n",
    "t4_nature_bijarim = t4_nature_bijarim.drop(columns='index')\n",
    "t4_nature_bijarim.to_csv('t4_nature_bijarim.csv', encoding='UTF-8')"
   ]
  },
  {
   "cell_type": "code",
   "execution_count": 18,
   "metadata": {},
   "outputs": [],
   "source": [
    "# '만장굴', \n",
    "t4_nature_manjanggul = t4_nature.loc[t4_nature['TRRSRT_NM']=='만장굴'].reset_index()\n",
    "t4_nature_manjanggul = t4_nature_manjanggul.drop(columns='index')\n",
    "t4_nature_manjanggul.to_csv('t4_nature_manjanggul.csv', encoding='UTF-8')"
   ]
  },
  {
   "cell_type": "code",
   "execution_count": 19,
   "metadata": {},
   "outputs": [],
   "source": [
    "# '여미지식물원', \n",
    "t4_nature_yeomiji = t4_nature.loc[t4_nature['TRRSRT_NM']=='여미지식물원'].reset_index()\n",
    "t4_nature_yeomiji = t4_nature_yeomiji.drop(columns='index')\n",
    "t4_nature_yeomiji.to_csv('t4_nature_yeomiji.csv', encoding='UTF-8')"
   ]
  },
  {
   "cell_type": "code",
   "execution_count": 20,
   "metadata": {},
   "outputs": [],
   "source": [
    "# '생각하는정원',\n",
    "t4_nature_garden = t4_nature.loc[t4_nature['TRRSRT_NM']=='생각하는정원'].reset_index()\n",
    "t4_nature_garden = t4_nature_garden.drop(columns='index')\n",
    "t4_nature_garden.to_csv('t4_nature_garden.csv', encoding='UTF-8')"
   ]
  },
  {
   "cell_type": "code",
   "execution_count": 21,
   "metadata": {},
   "outputs": [],
   "source": [
    " # '상효원'\n",
    "t4_nature_sanghyowon = t4_nature.loc[t4_nature['TRRSRT_NM']=='상효원'].reset_index()\n",
    "t4_nature_sanghyowon = t4_nature_sanghyowon.drop(columns='index')\n",
    "t4_nature_sanghyowon.to_csv('t4_nature_sanghyowon.csv', encoding='UTF-8')"
   ]
  }
 ],
 "metadata": {
  "kernelspec": {
   "display_name": "Python 3.9.13 64-bit",
   "language": "python",
   "name": "python3"
  },
  "language_info": {
   "codemirror_mode": {
    "name": "ipython",
    "version": 3
   },
   "file_extension": ".py",
   "mimetype": "text/x-python",
   "name": "python",
   "nbconvert_exporter": "python",
   "pygments_lexer": "ipython3",
   "version": "3.9.13"
  },
  "orig_nbformat": 4,
  "vscode": {
   "interpreter": {
    "hash": "aee8b7b246df8f9039afb4144a1f6fd8d2ca17a180786b69acc140d282b71a49"
   }
  }
 },
 "nbformat": 4,
 "nbformat_minor": 2
}
