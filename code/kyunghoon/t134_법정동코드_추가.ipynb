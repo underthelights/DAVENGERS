{
 "cells": [
  {
   "cell_type": "code",
   "execution_count": 1,
   "metadata": {
    "ExecuteTime": {
     "end_time": "2022-09-25T05:09:55.852971Z",
     "start_time": "2022-09-25T05:09:51.112169Z"
    }
   },
   "outputs": [],
   "source": [
    "import numpy as np\n",
    "import pandas as pd\n",
    "import matplotlib.pyplot as plt\n",
    "import seaborn as sns\n",
    "import os\n",
    "\n",
    "plt.style.use('seaborn')\n",
    "from matplotlib import rc, font_manager\n",
    "#font_path = \"C:/Windows/Fonts/NanumSquareB.TTF\"\n",
    "#font = font_manager.FontProperties(fname=font_path).get_name()\n",
    "#rc('font', family=font)\n",
    "\n",
    "\n",
    "import warnings\n",
    "warnings.filterwarnings('ignore')\n",
    "\n",
    "%matplotlib inline\n",
    "\n",
    "for i, file in enumerate(os.listdir(\"../data/rename\")):\n",
    "    globals()[file[:2]] = pd.read_csv(\"../data/rename/\"+file, encoding='cp949')"
   ]
  },
  {
   "cell_type": "code",
   "execution_count": 2,
   "metadata": {
    "ExecuteTime": {
     "end_time": "2022-09-25T05:09:58.626916Z",
     "start_time": "2022-09-25T05:09:55.857975Z"
    }
   },
   "outputs": [],
   "source": [
    "t1 = pd.read_csv(\"../data/juso/t1_주소변환_new.csv\")\n",
    "t4 = pd.read_csv(\"../data/juso/t4_주소변환.csv\", index_col=0)\n",
    "code = pd.read_csv(\"../data/juso/제주도 법정동코드.csv\", index_col=0)"
   ]
  },
  {
   "cell_type": "code",
   "execution_count": 3,
   "metadata": {
    "ExecuteTime": {
     "end_time": "2022-09-25T05:09:58.701975Z",
     "start_time": "2022-09-25T05:09:58.629900Z"
    }
   },
   "outputs": [
    {
     "data": {
      "text/plain": [
       "1    65128\n",
       "2    54959\n",
       "3    31924\n",
       "4    26899\n",
       "5    22460\n",
       "6    21694\n",
       "0    20264\n",
       "7    19119\n",
       "9    18729\n",
       "8    14624\n",
       "동     9702\n",
       "읍     5716\n",
       "로     2671\n",
       "면     1756\n",
       "길      529\n",
       "Name: ADDR_new, dtype: int64"
      ]
     },
     "execution_count": 3,
     "metadata": {},
     "output_type": "execute_result"
    }
   ],
   "source": [
    "t1['ADDR_new'].apply(lambda x: x[-1]).value_counts()"
   ]
  },
  {
   "cell_type": "markdown",
   "metadata": {},
   "source": [
    "SGNG_CD\n",
    "LGDNG_CD"
   ]
  },
  {
   "cell_type": "code",
   "execution_count": 5,
   "metadata": {
    "ExecuteTime": {
     "end_time": "2022-09-25T05:10:07.841414Z",
     "start_time": "2022-09-25T05:10:07.477281Z"
    }
   },
   "outputs": [],
   "source": [
    "idx = t1[t1['ADDR_new'].apply(lambda x: x[-1] in ['1', '2', '3', '4', '5', '6', '7', '8', '9', '0'])]['ADDR_new'].index\n",
    "t1.loc[idx, 'ADDR_new'] = \\\n",
    "t1.loc[idx, 'ADDR_new'].apply(lambda x: \" \".join(x.split()[:-1]))"
   ]
  },
  {
   "cell_type": "code",
   "execution_count": 6,
   "metadata": {
    "ExecuteTime": {
     "end_time": "2022-09-25T05:10:09.379460Z",
     "start_time": "2022-09-25T05:10:09.277514Z"
    }
   },
   "outputs": [],
   "source": [
    "idx = t1[t1['ADDR_new'].apply(lambda x: x[-1] in ['산'])]['ADDR_new'].index\n",
    "t1.loc[idx, 'ADDR_new'] = \\\n",
    "t1.loc[idx, 'ADDR_new'].apply(lambda x: \" \".join(x.split()[:-1]))"
   ]
  },
  {
   "cell_type": "code",
   "execution_count": 11,
   "metadata": {
    "ExecuteTime": {
     "end_time": "2022-09-25T05:11:42.148669Z",
     "start_time": "2022-09-25T05:11:42.062663Z"
    }
   },
   "outputs": [
    {
     "data": {
      "text/plain": [
       "Series([], Name: ADDR_new, dtype: int64)"
      ]
     },
     "execution_count": 11,
     "metadata": {},
     "output_type": "execute_result"
    }
   ],
   "source": [
    "t1[t1['ADDR_new'].apply(lambda x: x[-1]) == '길']['ADDR_new'].value_counts()"
   ]
  },
  {
   "cell_type": "code",
   "execution_count": 10,
   "metadata": {
    "ExecuteTime": {
     "end_time": "2022-09-25T05:11:40.978445Z",
     "start_time": "2022-09-25T05:11:40.866349Z"
    }
   },
   "outputs": [],
   "source": [
    "t1[t1['ADDR_new'].apply(lambda x: x[-1]) == '길']['ADDR_new'].value_counts()\n",
    "\n",
    "t1.loc[t1[t1.ADDR_new=='제주특별자치도  제주시  한림읍  귀덕6길'].index,'ADDR_new'] = '제주특별자치도 제주시 한림읍 귀덕리 1502'\n",
    "t1.loc[t1[t1.ADDR_new=='제주특별자치도  서귀포시  태평로431번길'].index,'ADDR_new'] = '제주특별자치도 서귀포시 서귀동 544-2'"
   ]
  },
  {
   "cell_type": "code",
   "execution_count": 12,
   "metadata": {
    "ExecuteTime": {
     "end_time": "2022-09-25T05:11:49.734786Z",
     "start_time": "2022-09-25T05:11:49.511466Z"
    }
   },
   "outputs": [],
   "source": [
    "ro = t1[t1['ADDR_new'].apply(lambda x: x[-1]) == '로']['MCT_NM'].value_counts()\n",
    "ro_df = pd.DataFrame(columns={'MCT_NM','ADDR_new'})\n",
    "ro_df = ro_df[['MCT_NM','ADDR_new']]\n",
    "\n",
    "mct = []\n",
    "for ro in list(ro.index):\n",
    "    mct.append(ro)\n",
    "\n",
    "ro_df['MCT_NM'] = mct\n",
    "\n",
    "ro_df.loc[0,'ADDR_new'] = '제주특별자치도 서귀포시 서귀동'\n",
    "ro_df.loc[1,'ADDR_new'] = '제주특별자치도 제주시 용담이동'\n",
    "ro_df.loc[2,'ADDR_new'] = '제주특별자치도 제주시 연동'\n",
    "ro_df.loc[3,'ADDR_new'] = '제주특별자치도 서귀포시 토평동'\n",
    "ro_df.loc[4,'ADDR_new'] = '제주특별자치도 서귀포시 표선면 성읍리'\n",
    "ro_df.loc[5,'ADDR_new'] = '제주특별자치도 제주시 용담삼동'\n",
    "ro_df.loc[6,'ADDR_new'] = '제주특별자치도 제주시 이호일동'\n",
    "ro_df.loc[7,'ADDR_new'] = '제주특별자치도 제주시 도남동'\n",
    "ro_df.loc[8,'ADDR_new'] = '제주특별자치도 제주시 연동'\n",
    "\n",
    "for i in range(len(ro_df)):\n",
    "    t1.loc[t1[t1.MCT_NM==ro_df.loc[i,'MCT_NM']].index,'ADDR_new'] = ro_df.loc[i,'ADDR_new']"
   ]
  },
  {
   "cell_type": "code",
   "execution_count": 13,
   "metadata": {
    "ExecuteTime": {
     "end_time": "2022-09-25T05:11:56.273025Z",
     "start_time": "2022-09-25T05:11:56.163251Z"
    }
   },
   "outputs": [],
   "source": [
    "idx = t1[t1['ADDR_new'].apply(lambda x: x[-1] in ['1', '2', '3', '4', '5', '6', '7', '8', '9', '0'])]['ADDR_new'].index\n",
    "t1.loc[idx, 'ADDR_new'] = \\\n",
    "t1.loc[idx, 'ADDR_new'].apply(lambda x: \" \".join(x.split()[:-1]))"
   ]
  },
  {
   "cell_type": "code",
   "execution_count": 14,
   "metadata": {
    "ExecuteTime": {
     "end_time": "2022-09-25T05:12:04.925539Z",
     "start_time": "2022-09-25T05:12:04.704166Z"
    }
   },
   "outputs": [],
   "source": [
    "t1['ADDR_new'] = t1['ADDR_new'].apply(lambda x: ' '.join(x.split()))\n",
    "#t1['ADDR_new'].apply(lambda x: ' '.join(x.split(' ')))"
   ]
  },
  {
   "cell_type": "code",
   "execution_count": 15,
   "metadata": {
    "ExecuteTime": {
     "end_time": "2022-09-25T05:12:05.924645Z",
     "start_time": "2022-09-25T05:12:05.905581Z"
    }
   },
   "outputs": [
    {
     "data": {
      "text/plain": [
       "0         제주특별자치도 서귀포시 안덕면 사계리\n",
       "1         제주특별자치도 서귀포시 안덕면 사계리\n",
       "2         제주특별자치도 서귀포시 안덕면 사계리\n",
       "3         제주특별자치도 서귀포시 안덕면 사계리\n",
       "4         제주특별자치도 서귀포시 안덕면 사계리\n",
       "                  ...         \n",
       "316169        제주특별자치도 제주시 용담이동\n",
       "316170        제주특별자치도 제주시 용담이동\n",
       "316171        제주특별자치도 제주시 용담이동\n",
       "316172        제주특별자치도 제주시 용담이동\n",
       "316173        제주특별자치도 제주시 용담이동\n",
       "Name: ADDR_new, Length: 316174, dtype: object"
      ]
     },
     "execution_count": 15,
     "metadata": {},
     "output_type": "execute_result"
    }
   ],
   "source": [
    "t1['ADDR_new']"
   ]
  },
  {
   "cell_type": "code",
   "execution_count": 16,
   "metadata": {
    "ExecuteTime": {
     "end_time": "2022-09-25T05:12:10.552512Z",
     "start_time": "2022-09-25T05:12:10.541494Z"
    }
   },
   "outputs": [],
   "source": [
    "def change_addr(x):\n",
    "    if '제주특별자치도특별자치도' in x:\n",
    "        x = x.replace('제주특별자치도특별자치도', '제주특별자치도', 1)\n",
    "    elif '용담1동' in x:\n",
    "        x = x.replace('용담1동', '용담일동', 1)\n",
    "    elif '용담2동' in x:\n",
    "        x = x.replace('용담2동', '용담이동', 1)\n",
    "    elif '용담3동' in x:\n",
    "        x = x.replace('용담3동', '용담삼동', 1)\n",
    "    elif '일도1동' in x:\n",
    "        x = x.replace('일도1동', '일도일동', 1)\n",
    "    elif '일도2동' in x:\n",
    "        x = x.replace('일도2동', '일도이동', 1)\n",
    "    elif '이도1동' in x:\n",
    "        x = x.replace('이도1동', '이도일동', 1)\n",
    "    elif '이도2동' in x:\n",
    "        x = x.replace('이도2동', '이도이동', 1)\n",
    "    elif '삼도1동' in x:\n",
    "        x = x.replace('삼도1동', '삼도일동', 1)\n",
    "    elif '삼도2동' in x:\n",
    "        x = x.replace('삼도2동', '삼도이동', 1)\n",
    "    elif '북제주군' in x:\n",
    "        x = x.replace('북제주군', '제주시', 1)\n",
    "    elif '남제주군' in x:\n",
    "        x = x.replace('남제주군', '서귀포시', 1)\n",
    "    else:\n",
    "        pass\n",
    "    return x"
   ]
  },
  {
   "cell_type": "code",
   "execution_count": 26,
   "metadata": {
    "ExecuteTime": {
     "end_time": "2022-09-25T05:14:26.780375Z",
     "start_time": "2022-09-25T05:14:26.443247Z"
    }
   },
   "outputs": [],
   "source": [
    "t1['ADDR_new'] = t1['ADDR_new'].apply(lambda x: x.strip())\n",
    "t1['ADDR_new'] = t1['ADDR_new'].apply(lambda x : change_addr(x))"
   ]
  },
  {
   "cell_type": "code",
   "execution_count": null,
   "metadata": {
    "ExecuteTime": {
     "start_time": "2022-09-25T05:14:37.484Z"
    },
    "scrolled": true
   },
   "outputs": [],
   "source": [
    "notincode = []\n",
    "for val in t1['ADDR_new'].values:\n",
    "    a = code[code['코드값의미'] == val]['코드값'].values\n",
    "    if a.size == 0:\n",
    "        notincode.append(val)\n",
    "        print(val)\n",
    "    else:\n",
    "        t1.loc[t1['ADDR_new'] == val, 'SGNG_CD'] = int(str(code[code['코드값의미'] == val]['코드값'].values[0])[:5])\n",
    "        t1.loc[t1['ADDR_new'] == val, 'LGDNG_CD'] = int(str(code[code['코드값의미'] == val]['코드값'].values[0])[5:])\n",
    "t1"
   ]
  },
  {
   "cell_type": "code",
   "execution_count": null,
   "metadata": {
    "ExecuteTime": {
     "end_time": "2022-09-25T05:03:25.084436Z",
     "start_time": "2022-09-25T05:01:20.110Z"
    }
   },
   "outputs": [],
   "source": [
    "t1['LGDNG_CD'].value_counts()"
   ]
  },
  {
   "cell_type": "code",
   "execution_count": null,
   "metadata": {
    "ExecuteTime": {
     "end_time": "2022-09-25T05:03:25.085436Z",
     "start_time": "2022-09-25T05:01:20.595Z"
    }
   },
   "outputs": [],
   "source": [
    "code"
   ]
  },
  {
   "cell_type": "code",
   "execution_count": 31,
   "metadata": {
    "ExecuteTime": {
     "end_time": "2022-09-25T04:06:14.457413Z",
     "start_time": "2022-09-25T04:06:14.450423Z"
    }
   },
   "outputs": [],
   "source": [
    "t1['SGNG_CD'] = int(str(code[code['코드값의미'] == val]['코드값'].values[0])[:5])\n"
   ]
  },
  {
   "cell_type": "code",
   "execution_count": null,
   "metadata": {},
   "outputs": [],
   "source": []
  },
  {
   "cell_type": "code",
   "execution_count": null,
   "metadata": {},
   "outputs": [],
   "source": []
  },
  {
   "cell_type": "code",
   "execution_count": null,
   "metadata": {},
   "outputs": [],
   "source": []
  },
  {
   "cell_type": "code",
   "execution_count": null,
   "metadata": {},
   "outputs": [],
   "source": []
  },
  {
   "cell_type": "code",
   "execution_count": 55,
   "metadata": {
    "ExecuteTime": {
     "end_time": "2022-09-24T08:19:18.157701Z",
     "start_time": "2022-09-24T08:19:18.118708Z"
    }
   },
   "outputs": [
    {
     "data": {
      "text/plain": [
       "씨유디아일랜드호텔점    251\n",
       "Name: MCT_NM, dtype: int64"
      ]
     },
     "execution_count": 55,
     "metadata": {},
     "output_type": "execute_result"
    }
   ],
   "source": [
    "t1[t1.ADDR_new=='제주특별자치도  서귀포시  태평로431번길']['MCT_NM'].value_counts()"
   ]
  },
  {
   "cell_type": "code",
   "execution_count": 51,
   "metadata": {
    "ExecuteTime": {
     "end_time": "2022-09-24T08:13:27.873497Z",
     "start_time": "2022-09-24T08:13:27.802496Z"
    }
   },
   "outputs": [
    {
     "data": {
      "text/plain": [
       "제주특별자치도  제주시  한림읍  귀덕6길    278\n",
       "제주특별자치도  서귀포시  태평로431번길    251\n",
       "Name: ADDR_new, dtype: int64"
      ]
     },
     "execution_count": 51,
     "metadata": {},
     "output_type": "execute_result"
    }
   ],
   "source": [
    "#t1[t1['ADDR_new'].apply(lambda x: \" \".join(x.split()[:-1])) == '제주특별자치도특별자치도 제주시 용담3동']\n",
    "\n",
    "t1[t1['ADDR_new'].apply(lambda x: x[-1]) == '길']['ADDR_new'].value_counts()"
   ]
  },
  {
   "cell_type": "code",
   "execution_count": 52,
   "metadata": {
    "ExecuteTime": {
     "end_time": "2022-09-24T08:14:46.543496Z",
     "start_time": "2022-09-24T08:14:46.510481Z"
    }
   },
   "outputs": [
    {
     "data": {
      "text/plain": [
       "Int64Index([  8358,   8359,   8360,   8361,   8362,   8363,   8364,   8365,\n",
       "              8366,   8367,\n",
       "            ...\n",
       "            302668, 305091, 308113, 308114, 308115, 310443, 313340, 315294,\n",
       "            315295, 315296],\n",
       "           dtype='int64', length=278)"
      ]
     },
     "execution_count": 52,
     "metadata": {},
     "output_type": "execute_result"
    }
   ],
   "source": [
    "t1[t1.ADDR_new=='제주특별자치도  제주시  한림읍  귀덕6길'].index"
   ]
  },
  {
   "cell_type": "code",
   "execution_count": 67,
   "metadata": {
    "ExecuteTime": {
     "end_time": "2022-09-25T02:35:34.489386Z",
     "start_time": "2022-09-25T02:35:34.474383Z"
    }
   },
   "outputs": [
    {
     "data": {
      "text/html": [
       "<div>\n",
       "<style scoped>\n",
       "    .dataframe tbody tr th:only-of-type {\n",
       "        vertical-align: middle;\n",
       "    }\n",
       "\n",
       "    .dataframe tbody tr th {\n",
       "        vertical-align: top;\n",
       "    }\n",
       "\n",
       "    .dataframe thead th {\n",
       "        text-align: right;\n",
       "    }\n",
       "</style>\n",
       "<table border=\"1\" class=\"dataframe\">\n",
       "  <thead>\n",
       "    <tr style=\"text-align: right;\">\n",
       "      <th></th>\n",
       "      <th>MCT_NM</th>\n",
       "      <th>ADDR_new</th>\n",
       "    </tr>\n",
       "  </thead>\n",
       "  <tbody>\n",
       "  </tbody>\n",
       "</table>\n",
       "</div>"
      ],
      "text/plain": [
       "Empty DataFrame\n",
       "Columns: [MCT_NM, ADDR_new]\n",
       "Index: []"
      ]
     },
     "execution_count": 67,
     "metadata": {},
     "output_type": "execute_result"
    }
   ],
   "source": [
    "ro_df = pd.DataFrame(columns={'MCT_NM','ADDR_new'})\n",
    "ro_df = ro_df[['MCT_NM','ADDR_new']]\n",
    "ro_df"
   ]
  },
  {
   "cell_type": "code",
   "execution_count": null,
   "metadata": {},
   "outputs": [],
   "source": []
  },
  {
   "cell_type": "code",
   "execution_count": null,
   "metadata": {},
   "outputs": [],
   "source": []
  },
  {
   "cell_type": "code",
   "execution_count": 68,
   "metadata": {
    "ExecuteTime": {
     "end_time": "2022-09-25T02:35:35.008509Z",
     "start_time": "2022-09-25T02:35:34.993519Z"
    }
   },
   "outputs": [],
   "source": [
    "ro_df['MCT_NM'] = mct"
   ]
  },
  {
   "cell_type": "code",
   "execution_count": 69,
   "metadata": {
    "ExecuteTime": {
     "end_time": "2022-09-25T02:35:36.349803Z",
     "start_time": "2022-09-25T02:35:36.334803Z"
    }
   },
   "outputs": [
    {
     "data": {
      "text/html": [
       "<div>\n",
       "<style scoped>\n",
       "    .dataframe tbody tr th:only-of-type {\n",
       "        vertical-align: middle;\n",
       "    }\n",
       "\n",
       "    .dataframe tbody tr th {\n",
       "        vertical-align: top;\n",
       "    }\n",
       "\n",
       "    .dataframe thead th {\n",
       "        text-align: right;\n",
       "    }\n",
       "</style>\n",
       "<table border=\"1\" class=\"dataframe\">\n",
       "  <thead>\n",
       "    <tr style=\"text-align: right;\">\n",
       "      <th></th>\n",
       "      <th>MCT_NM</th>\n",
       "      <th>ADDR_new</th>\n",
       "    </tr>\n",
       "  </thead>\n",
       "  <tbody>\n",
       "    <tr>\n",
       "      <th>0</th>\n",
       "      <td>한국맥도날드(유)서귀포DT점</td>\n",
       "      <td>NaN</td>\n",
       "    </tr>\n",
       "    <tr>\n",
       "      <th>1</th>\n",
       "      <td>한국맥도날드(유)제주공항DT점</td>\n",
       "      <td>NaN</td>\n",
       "    </tr>\n",
       "    <tr>\n",
       "      <th>2</th>\n",
       "      <td>(주)호텔롯데 롯데시티호텔 제주</td>\n",
       "      <td>NaN</td>\n",
       "    </tr>\n",
       "    <tr>\n",
       "      <th>3</th>\n",
       "      <td>에스케이엘이씨(주)</td>\n",
       "      <td>NaN</td>\n",
       "    </tr>\n",
       "    <tr>\n",
       "      <th>4</th>\n",
       "      <td>주식회사 크리에이티브통제주 성읍</td>\n",
       "      <td>NaN</td>\n",
       "    </tr>\n",
       "    <tr>\n",
       "      <th>5</th>\n",
       "      <td>섬나라오메기</td>\n",
       "      <td>NaN</td>\n",
       "    </tr>\n",
       "    <tr>\n",
       "      <th>6</th>\n",
       "      <td>주비</td>\n",
       "      <td>NaN</td>\n",
       "    </tr>\n",
       "    <tr>\n",
       "      <th>7</th>\n",
       "      <td>주식회사 탐라원특산품</td>\n",
       "      <td>NaN</td>\n",
       "    </tr>\n",
       "    <tr>\n",
       "      <th>8</th>\n",
       "      <td>디스커버리 신제주점</td>\n",
       "      <td>NaN</td>\n",
       "    </tr>\n",
       "  </tbody>\n",
       "</table>\n",
       "</div>"
      ],
      "text/plain": [
       "              MCT_NM ADDR_new\n",
       "0    한국맥도날드(유)서귀포DT점      NaN\n",
       "1   한국맥도날드(유)제주공항DT점      NaN\n",
       "2  (주)호텔롯데 롯데시티호텔 제주      NaN\n",
       "3         에스케이엘이씨(주)      NaN\n",
       "4  주식회사 크리에이티브통제주 성읍      NaN\n",
       "5             섬나라오메기      NaN\n",
       "6                 주비      NaN\n",
       "7        주식회사 탐라원특산품      NaN\n",
       "8         디스커버리 신제주점      NaN"
      ]
     },
     "execution_count": 69,
     "metadata": {},
     "output_type": "execute_result"
    }
   ],
   "source": [
    "ro_df"
   ]
  },
  {
   "cell_type": "code",
   "execution_count": 70,
   "metadata": {
    "ExecuteTime": {
     "end_time": "2022-09-25T02:45:12.185414Z",
     "start_time": "2022-09-25T02:45:12.169156Z"
    }
   },
   "outputs": [],
   "source": [
    "ro_df.loc[0,'ADDR_new'] = '제주특별자치도 서귀포시 서귀동'\n",
    "ro_df.loc[1,'ADDR_new'] = '제주특별자치도 제주시 용담이동'\n",
    "ro_df.loc[2,'ADDR_new'] = '제주특별자치도 제주시 연동'\n",
    "ro_df.loc[3,'ADDR_new'] = '제주특별자치도 서귀포시 토평동'\n",
    "ro_df.loc[4,'ADDR_new'] = '제주특별자치도 서귀포시 표선면 성읍리'\n",
    "ro_df.loc[5,'ADDR_new'] = '제주특별자치도 제주시 용담삼동'\n",
    "ro_df.loc[6,'ADDR_new'] = '제주특별자치도 제주시 이호일동'\n",
    "ro_df.loc[7,'ADDR_new'] = '제주특별자치도 제주시 도남동'\n",
    "ro_df.loc[8,'ADDR_new'] = '제주특별자치도 제주시 연동'"
   ]
  },
  {
   "cell_type": "code",
   "execution_count": 71,
   "metadata": {
    "ExecuteTime": {
     "end_time": "2022-09-25T02:45:19.367272Z",
     "start_time": "2022-09-25T02:45:19.351277Z"
    }
   },
   "outputs": [
    {
     "data": {
      "text/html": [
       "<div>\n",
       "<style scoped>\n",
       "    .dataframe tbody tr th:only-of-type {\n",
       "        vertical-align: middle;\n",
       "    }\n",
       "\n",
       "    .dataframe tbody tr th {\n",
       "        vertical-align: top;\n",
       "    }\n",
       "\n",
       "    .dataframe thead th {\n",
       "        text-align: right;\n",
       "    }\n",
       "</style>\n",
       "<table border=\"1\" class=\"dataframe\">\n",
       "  <thead>\n",
       "    <tr style=\"text-align: right;\">\n",
       "      <th></th>\n",
       "      <th>MCT_NM</th>\n",
       "      <th>ADDR_new</th>\n",
       "    </tr>\n",
       "  </thead>\n",
       "  <tbody>\n",
       "    <tr>\n",
       "      <th>0</th>\n",
       "      <td>한국맥도날드(유)서귀포DT점</td>\n",
       "      <td>제주특별자치도 서귀포시 서귀동</td>\n",
       "    </tr>\n",
       "    <tr>\n",
       "      <th>1</th>\n",
       "      <td>한국맥도날드(유)제주공항DT점</td>\n",
       "      <td>제주특별자치도 제주시 용담이동</td>\n",
       "    </tr>\n",
       "    <tr>\n",
       "      <th>2</th>\n",
       "      <td>(주)호텔롯데 롯데시티호텔 제주</td>\n",
       "      <td>제주특별자치도 제주시 연동</td>\n",
       "    </tr>\n",
       "    <tr>\n",
       "      <th>3</th>\n",
       "      <td>에스케이엘이씨(주)</td>\n",
       "      <td>제주특별자치도 서귀포시 토평동</td>\n",
       "    </tr>\n",
       "    <tr>\n",
       "      <th>4</th>\n",
       "      <td>주식회사 크리에이티브통제주 성읍</td>\n",
       "      <td>제주특별자치도 서귀포시 표선면 성읍리</td>\n",
       "    </tr>\n",
       "    <tr>\n",
       "      <th>5</th>\n",
       "      <td>섬나라오메기</td>\n",
       "      <td>제주특별자치도 제주시 용담삼동</td>\n",
       "    </tr>\n",
       "    <tr>\n",
       "      <th>6</th>\n",
       "      <td>주비</td>\n",
       "      <td>제주특별자치도 제주시 이호일동</td>\n",
       "    </tr>\n",
       "    <tr>\n",
       "      <th>7</th>\n",
       "      <td>주식회사 탐라원특산품</td>\n",
       "      <td>제주특별자치도 제주시 도남동</td>\n",
       "    </tr>\n",
       "    <tr>\n",
       "      <th>8</th>\n",
       "      <td>디스커버리 신제주점</td>\n",
       "      <td>제주특별자치도 제주시 연동</td>\n",
       "    </tr>\n",
       "  </tbody>\n",
       "</table>\n",
       "</div>"
      ],
      "text/plain": [
       "              MCT_NM              ADDR_new\n",
       "0    한국맥도날드(유)서귀포DT점      제주특별자치도 서귀포시 서귀동\n",
       "1   한국맥도날드(유)제주공항DT점      제주특별자치도 제주시 용담이동\n",
       "2  (주)호텔롯데 롯데시티호텔 제주        제주특별자치도 제주시 연동\n",
       "3         에스케이엘이씨(주)      제주특별자치도 서귀포시 토평동\n",
       "4  주식회사 크리에이티브통제주 성읍  제주특별자치도 서귀포시 표선면 성읍리\n",
       "5             섬나라오메기      제주특별자치도 제주시 용담삼동\n",
       "6                 주비      제주특별자치도 제주시 이호일동\n",
       "7        주식회사 탐라원특산품       제주특별자치도 제주시 도남동\n",
       "8         디스커버리 신제주점        제주특별자치도 제주시 연동"
      ]
     },
     "execution_count": 71,
     "metadata": {},
     "output_type": "execute_result"
    }
   ],
   "source": [
    "ro_df"
   ]
  },
  {
   "cell_type": "code",
   "execution_count": null,
   "metadata": {},
   "outputs": [],
   "source": []
  },
  {
   "cell_type": "code",
   "execution_count": null,
   "metadata": {},
   "outputs": [],
   "source": []
  },
  {
   "cell_type": "code",
   "execution_count": null,
   "metadata": {},
   "outputs": [],
   "source": []
  },
  {
   "cell_type": "code",
   "execution_count": null,
   "metadata": {},
   "outputs": [],
   "source": []
  },
  {
   "cell_type": "code",
   "execution_count": null,
   "metadata": {},
   "outputs": [],
   "source": []
  },
  {
   "cell_type": "code",
   "execution_count": null,
   "metadata": {},
   "outputs": [],
   "source": []
  },
  {
   "cell_type": "code",
   "execution_count": 64,
   "metadata": {
    "ExecuteTime": {
     "end_time": "2022-09-25T02:35:20.259098Z",
     "start_time": "2022-09-25T02:35:20.171548Z"
    }
   },
   "outputs": [],
   "source": [
    "ro = t1[t1['ADDR_new'].apply(lambda x: x[-1]) == '로']['MCT_NM'].value_counts()\n",
    "mct = []\n",
    "\n",
    "for ro in list(ro.index):\n",
    "    mct.append(ro)"
   ]
  },
  {
   "cell_type": "code",
   "execution_count": 65,
   "metadata": {
    "ExecuteTime": {
     "end_time": "2022-09-25T02:35:25.660763Z",
     "start_time": "2022-09-25T02:35:25.653759Z"
    }
   },
   "outputs": [
    {
     "data": {
      "text/plain": [
       "['한국맥도날드(유)서귀포DT점',\n",
       " '한국맥도날드(유)제주공항DT점',\n",
       " '(주)호텔롯데 롯데시티호텔 제주',\n",
       " '에스케이엘이씨(주)',\n",
       " '주식회사 크리에이티브통제주 성읍',\n",
       " '섬나라오메기',\n",
       " '주비',\n",
       " '주식회사 탐라원특산품',\n",
       " '디스커버리 신제주점']"
      ]
     },
     "execution_count": 65,
     "metadata": {},
     "output_type": "execute_result"
    }
   ],
   "source": [
    "mct"
   ]
  },
  {
   "cell_type": "code",
   "execution_count": 56,
   "metadata": {
    "ExecuteTime": {
     "end_time": "2022-09-24T08:19:52.705805Z",
     "start_time": "2022-09-24T08:19:52.666772Z"
    }
   },
   "outputs": [],
   "source": [
    "t1.loc[t1[t1.ADDR_new=='제주특별자치도  제주시  한림읍  귀덕6길'].index,'ADDR_new'] = '제주특별자치도 제주시 한림읍 귀덕리 1502'\n",
    "t1.loc[t1[t1.ADDR_new=='제주특별자치도  서귀포시  태평로431번길'].index,'ADDR_new'] = '제주특별자치도 서귀포시 서귀동 544-2'"
   ]
  },
  {
   "cell_type": "code",
   "execution_count": null,
   "metadata": {},
   "outputs": [],
   "source": [
    "mct = \n",
    "\n",
    "for ro in list(ro.index):\n",
    "    print(ro)\n",
    "    print(t1[t1.ADDR_new==ro]['MCT_NM'].value_counts())\n",
    "    "
   ]
  },
  {
   "cell_type": "code",
   "execution_count": 54,
   "metadata": {
    "ExecuteTime": {
     "end_time": "2022-09-25T02:26:14.502177Z",
     "start_time": "2022-09-25T02:26:14.359132Z"
    }
   },
   "outputs": [
    {
     "name": "stdout",
     "output_type": "stream",
     "text": [
      "제주특별자치도  제주시  도령로\n",
      "한국맥도날드(유)제주공항DT점     619\n",
      "(주)호텔롯데 롯데시티호텔 제주    394\n",
      "Name: MCT_NM, dtype: int64\n",
      "제주특별자치도  서귀포시  일주동로\n",
      "한국맥도날드(유)서귀포DT점    669\n",
      "Name: MCT_NM, dtype: int64\n",
      "제주특별자치도  서귀포시  516로\n",
      "에스케이엘이씨(주)    351\n",
      "Name: MCT_NM, dtype: int64\n",
      "제주특별자치도  서귀포시  표선면  번영로\n",
      "주식회사 크리에이티브통제주 성읍    195\n",
      "Name: MCT_NM, dtype: int64\n",
      "제주특별자치도 제주시 용해로\n",
      "섬나라오메기    178\n",
      "Name: MCT_NM, dtype: int64\n",
      "제주특별자치도 제주시 도리로\n",
      "주비    163\n",
      "Name: MCT_NM, dtype: int64\n",
      "제주특별자치도  제주시  연북로\n",
      "주식회사 탐라원특산품    78\n",
      "Name: MCT_NM, dtype: int64\n",
      "제주특별자치도  제주시  신광로\n",
      "디스커버리 신제주점    24\n",
      "Name: MCT_NM, dtype: int64\n"
     ]
    }
   ],
   "source": [
    "for ro in list(ro.index):\n",
    "    print(ro)\n",
    "    print(t1[t1.ADDR_new==ro]['MCT_NM'].value_counts())"
   ]
  },
  {
   "cell_type": "code",
   "execution_count": null,
   "metadata": {},
   "outputs": [],
   "source": []
  },
  {
   "cell_type": "code",
   "execution_count": 53,
   "metadata": {
    "ExecuteTime": {
     "end_time": "2022-09-25T02:26:12.503686Z",
     "start_time": "2022-09-25T02:26:12.416679Z"
    }
   },
   "outputs": [
    {
     "data": {
      "text/plain": [
       "제주특별자치도  제주시  도령로          1013\n",
       "제주특별자치도  서귀포시  일주동로         669\n",
       "제주특별자치도  서귀포시  516로         351\n",
       "제주특별자치도  서귀포시  표선면  번영로     195\n",
       "제주특별자치도 제주시 용해로             178\n",
       "제주특별자치도 제주시 도리로             163\n",
       "제주특별자치도  제주시  연북로            78\n",
       "제주특별자치도  제주시  신광로            24\n",
       "Name: ADDR_new, dtype: int64"
      ]
     },
     "execution_count": 53,
     "metadata": {},
     "output_type": "execute_result"
    }
   ],
   "source": [
    "ro = t1[t1['ADDR_new'].apply(lambda x: x[-1]) == '로']['ADDR_new'].value_counts()\n",
    "ro"
   ]
  },
  {
   "cell_type": "code",
   "execution_count": 49,
   "metadata": {
    "ExecuteTime": {
     "end_time": "2022-09-25T02:25:18.639092Z",
     "start_time": "2022-09-25T02:25:18.623070Z"
    }
   },
   "outputs": [
    {
     "data": {
      "text/plain": [
       "Index(['제주특별자치도  제주시  도령로', '제주특별자치도  서귀포시  일주동로', '제주특별자치도  서귀포시  516로',\n",
       "       '제주특별자치도  서귀포시  표선면  번영로', '제주특별자치도 제주시 용해로', '제주특별자치도 제주시 도리로',\n",
       "       '제주특별자치도  제주시  연북로', '제주특별자치도  제주시  신광로'],\n",
       "      dtype='object')"
      ]
     },
     "execution_count": 49,
     "metadata": {},
     "output_type": "execute_result"
    }
   ],
   "source": [
    "ro.index"
   ]
  },
  {
   "cell_type": "code",
   "execution_count": null,
   "metadata": {},
   "outputs": [],
   "source": [
    "읍면동리"
   ]
  },
  {
   "cell_type": "code",
   "execution_count": 57,
   "metadata": {
    "ExecuteTime": {
     "end_time": "2022-09-24T08:19:57.115285Z",
     "start_time": "2022-09-24T08:19:57.096268Z"
    },
    "scrolled": true
   },
   "outputs": [
    {
     "data": {
      "text/html": [
       "<div>\n",
       "<style scoped>\n",
       "    .dataframe tbody tr th:only-of-type {\n",
       "        vertical-align: middle;\n",
       "    }\n",
       "\n",
       "    .dataframe tbody tr th {\n",
       "        vertical-align: top;\n",
       "    }\n",
       "\n",
       "    .dataframe thead th {\n",
       "        text-align: right;\n",
       "    }\n",
       "</style>\n",
       "<table border=\"1\" class=\"dataframe\">\n",
       "  <thead>\n",
       "    <tr style=\"text-align: right;\">\n",
       "      <th></th>\n",
       "      <th>YR</th>\n",
       "      <th>MCT_NM</th>\n",
       "      <th>MCT_BRN</th>\n",
       "      <th>LG_CAT</th>\n",
       "      <th>LG_CAT_NM</th>\n",
       "      <th>MD_CAT</th>\n",
       "      <th>MD_CAT_NM</th>\n",
       "      <th>MCT_BSE_AR</th>\n",
       "      <th>ADDR_new</th>\n",
       "      <th>MNTH_SALES_PCTL</th>\n",
       "      <th>DAW_CCD</th>\n",
       "      <th>APV_TMT_CD</th>\n",
       "      <th>AGE_GP</th>\n",
       "      <th>SEX_CCD</th>\n",
       "      <th>UE_CT</th>\n",
       "      <th>type</th>\n",
       "      <th>change</th>\n",
       "      <th>SGNG_CD</th>\n",
       "      <th>LGDNG_CD</th>\n",
       "    </tr>\n",
       "  </thead>\n",
       "  <tbody>\n",
       "    <tr>\n",
       "      <th>0</th>\n",
       "      <td>2021</td>\n",
       "      <td>젠</td>\n",
       "      <td>2110164178</td>\n",
       "      <td>1</td>\n",
       "      <td>요식/유흥</td>\n",
       "      <td>2</td>\n",
       "      <td>일식/중식/양식</td>\n",
       "      <td>제주 서귀포시 안덕면 사계남로 186-8</td>\n",
       "      <td>제주특별자치도 서귀포시 안덕면 사계리 2032-7</td>\n",
       "      <td>3_25%~50%</td>\n",
       "      <td>1</td>\n",
       "      <td>4_09_12</td>\n",
       "      <td>4_35_39</td>\n",
       "      <td>F</td>\n",
       "      <td>42</td>\n",
       "      <td>도로명주소</td>\n",
       "      <td>가능</td>\n",
       "      <td>50110</td>\n",
       "      <td>12200</td>\n",
       "    </tr>\n",
       "    <tr>\n",
       "      <th>1</th>\n",
       "      <td>2021</td>\n",
       "      <td>젠</td>\n",
       "      <td>2110164178</td>\n",
       "      <td>1</td>\n",
       "      <td>요식/유흥</td>\n",
       "      <td>2</td>\n",
       "      <td>일식/중식/양식</td>\n",
       "      <td>제주 서귀포시 안덕면 사계남로 186-8</td>\n",
       "      <td>제주특별자치도 서귀포시 안덕면 사계리 2032-7</td>\n",
       "      <td>3_25%~50%</td>\n",
       "      <td>2</td>\n",
       "      <td>6_15_18</td>\n",
       "      <td>2_25_29</td>\n",
       "      <td>F</td>\n",
       "      <td>42</td>\n",
       "      <td>도로명주소</td>\n",
       "      <td>가능</td>\n",
       "      <td>50110</td>\n",
       "      <td>12200</td>\n",
       "    </tr>\n",
       "    <tr>\n",
       "      <th>2</th>\n",
       "      <td>2022</td>\n",
       "      <td>젠</td>\n",
       "      <td>2110164178</td>\n",
       "      <td>1</td>\n",
       "      <td>요식/유흥</td>\n",
       "      <td>2</td>\n",
       "      <td>일식/중식/양식</td>\n",
       "      <td>제주 서귀포시 안덕면 사계남로 186-8</td>\n",
       "      <td>제주특별자치도 서귀포시 안덕면 사계리 2032-7</td>\n",
       "      <td>3_25%~50%</td>\n",
       "      <td>3</td>\n",
       "      <td>7_18_21</td>\n",
       "      <td>3_30_34</td>\n",
       "      <td>M</td>\n",
       "      <td>42</td>\n",
       "      <td>도로명주소</td>\n",
       "      <td>가능</td>\n",
       "      <td>50110</td>\n",
       "      <td>12200</td>\n",
       "    </tr>\n",
       "    <tr>\n",
       "      <th>3</th>\n",
       "      <td>2022</td>\n",
       "      <td>젠</td>\n",
       "      <td>2110164178</td>\n",
       "      <td>1</td>\n",
       "      <td>요식/유흥</td>\n",
       "      <td>2</td>\n",
       "      <td>일식/중식/양식</td>\n",
       "      <td>제주 서귀포시 안덕면 사계남로 186-8</td>\n",
       "      <td>제주특별자치도 서귀포시 안덕면 사계리 2032-7</td>\n",
       "      <td>3_25%~50%</td>\n",
       "      <td>5</td>\n",
       "      <td>7_18_21</td>\n",
       "      <td>3_30_34</td>\n",
       "      <td>F</td>\n",
       "      <td>42</td>\n",
       "      <td>도로명주소</td>\n",
       "      <td>가능</td>\n",
       "      <td>50110</td>\n",
       "      <td>12200</td>\n",
       "    </tr>\n",
       "    <tr>\n",
       "      <th>4</th>\n",
       "      <td>2021</td>\n",
       "      <td>젠</td>\n",
       "      <td>2110164178</td>\n",
       "      <td>1</td>\n",
       "      <td>요식/유흥</td>\n",
       "      <td>2</td>\n",
       "      <td>일식/중식/양식</td>\n",
       "      <td>제주 서귀포시 안덕면 사계남로 186-8</td>\n",
       "      <td>제주특별자치도 서귀포시 안덕면 사계리 2032-7</td>\n",
       "      <td>3_25%~50%</td>\n",
       "      <td>6</td>\n",
       "      <td>6_15_18</td>\n",
       "      <td>2_25_29</td>\n",
       "      <td>M</td>\n",
       "      <td>42</td>\n",
       "      <td>도로명주소</td>\n",
       "      <td>가능</td>\n",
       "      <td>50110</td>\n",
       "      <td>12200</td>\n",
       "    </tr>\n",
       "    <tr>\n",
       "      <th>...</th>\n",
       "      <td>...</td>\n",
       "      <td>...</td>\n",
       "      <td>...</td>\n",
       "      <td>...</td>\n",
       "      <td>...</td>\n",
       "      <td>...</td>\n",
       "      <td>...</td>\n",
       "      <td>...</td>\n",
       "      <td>...</td>\n",
       "      <td>...</td>\n",
       "      <td>...</td>\n",
       "      <td>...</td>\n",
       "      <td>...</td>\n",
       "      <td>...</td>\n",
       "      <td>...</td>\n",
       "      <td>...</td>\n",
       "      <td>...</td>\n",
       "      <td>...</td>\n",
       "      <td>...</td>\n",
       "    </tr>\n",
       "    <tr>\n",
       "      <th>316169</th>\n",
       "      <td>2022</td>\n",
       "      <td>롯데지알에스(주)스카이31푸드에비뉴제주국제공항4층</td>\n",
       "      <td>1068123498</td>\n",
       "      <td>1</td>\n",
       "      <td>요식/유흥</td>\n",
       "      <td>4</td>\n",
       "      <td>기타요식</td>\n",
       "      <td>제주 제주시 공항로 2</td>\n",
       "      <td>제주특별자치도 제주시 용담이동 2002</td>\n",
       "      <td>1_상위10%이상</td>\n",
       "      <td>2</td>\n",
       "      <td>5_12_15</td>\n",
       "      <td>1_20_24</td>\n",
       "      <td>M</td>\n",
       "      <td>42</td>\n",
       "      <td>도로명주소</td>\n",
       "      <td>가능</td>\n",
       "      <td>50110</td>\n",
       "      <td>12200</td>\n",
       "    </tr>\n",
       "    <tr>\n",
       "      <th>316170</th>\n",
       "      <td>2021</td>\n",
       "      <td>롯데지알에스(주)스카이31푸드에비뉴제주국제공항4층</td>\n",
       "      <td>1068123498</td>\n",
       "      <td>1</td>\n",
       "      <td>요식/유흥</td>\n",
       "      <td>4</td>\n",
       "      <td>기타요식</td>\n",
       "      <td>제주 제주시 공항로 2</td>\n",
       "      <td>제주특별자치도 제주시 용담이동 2002</td>\n",
       "      <td>1_상위10%이상</td>\n",
       "      <td>4</td>\n",
       "      <td>6_15_18</td>\n",
       "      <td>1_20_24</td>\n",
       "      <td>M</td>\n",
       "      <td>42</td>\n",
       "      <td>도로명주소</td>\n",
       "      <td>가능</td>\n",
       "      <td>50110</td>\n",
       "      <td>12200</td>\n",
       "    </tr>\n",
       "    <tr>\n",
       "      <th>316171</th>\n",
       "      <td>2021</td>\n",
       "      <td>롯데지알에스(주)스카이31푸드에비뉴제주국제공항4층</td>\n",
       "      <td>1068123498</td>\n",
       "      <td>1</td>\n",
       "      <td>요식/유흥</td>\n",
       "      <td>4</td>\n",
       "      <td>기타요식</td>\n",
       "      <td>제주 제주시 공항로 2</td>\n",
       "      <td>제주특별자치도 제주시 용담이동 2002</td>\n",
       "      <td>1_상위10%이상</td>\n",
       "      <td>5</td>\n",
       "      <td>6_15_18</td>\n",
       "      <td>1_20_24</td>\n",
       "      <td>M</td>\n",
       "      <td>42</td>\n",
       "      <td>도로명주소</td>\n",
       "      <td>가능</td>\n",
       "      <td>50110</td>\n",
       "      <td>12200</td>\n",
       "    </tr>\n",
       "    <tr>\n",
       "      <th>316172</th>\n",
       "      <td>2022</td>\n",
       "      <td>롯데지알에스(주)스카이31푸드에비뉴제주국제공항4층</td>\n",
       "      <td>1068123498</td>\n",
       "      <td>1</td>\n",
       "      <td>요식/유흥</td>\n",
       "      <td>4</td>\n",
       "      <td>기타요식</td>\n",
       "      <td>제주 제주시 공항로 2</td>\n",
       "      <td>제주특별자치도 제주시 용담이동 2002</td>\n",
       "      <td>1_상위10%이상</td>\n",
       "      <td>4</td>\n",
       "      <td>7_18_21</td>\n",
       "      <td>1_20_24</td>\n",
       "      <td>M</td>\n",
       "      <td>42</td>\n",
       "      <td>도로명주소</td>\n",
       "      <td>가능</td>\n",
       "      <td>50110</td>\n",
       "      <td>12200</td>\n",
       "    </tr>\n",
       "    <tr>\n",
       "      <th>316173</th>\n",
       "      <td>2022</td>\n",
       "      <td>롯데지알에스(주)스카이31푸드에비뉴제주국제공항4층</td>\n",
       "      <td>1068123498</td>\n",
       "      <td>1</td>\n",
       "      <td>요식/유흥</td>\n",
       "      <td>4</td>\n",
       "      <td>기타요식</td>\n",
       "      <td>제주 제주시 공항로 2</td>\n",
       "      <td>제주특별자치도 제주시 용담이동 2002</td>\n",
       "      <td>1_상위10%이상</td>\n",
       "      <td>1</td>\n",
       "      <td>7_18_21</td>\n",
       "      <td>1_20_24</td>\n",
       "      <td>F</td>\n",
       "      <td>98</td>\n",
       "      <td>도로명주소</td>\n",
       "      <td>가능</td>\n",
       "      <td>50110</td>\n",
       "      <td>12200</td>\n",
       "    </tr>\n",
       "  </tbody>\n",
       "</table>\n",
       "<p>316174 rows × 19 columns</p>\n",
       "</div>"
      ],
      "text/plain": [
       "          YR                       MCT_NM     MCT_BRN  LG_CAT LG_CAT_NM  \\\n",
       "0       2021                            젠  2110164178       1     요식/유흥   \n",
       "1       2021                            젠  2110164178       1     요식/유흥   \n",
       "2       2022                            젠  2110164178       1     요식/유흥   \n",
       "3       2022                            젠  2110164178       1     요식/유흥   \n",
       "4       2021                            젠  2110164178       1     요식/유흥   \n",
       "...      ...                          ...         ...     ...       ...   \n",
       "316169  2022  롯데지알에스(주)스카이31푸드에비뉴제주국제공항4층  1068123498       1     요식/유흥   \n",
       "316170  2021  롯데지알에스(주)스카이31푸드에비뉴제주국제공항4층  1068123498       1     요식/유흥   \n",
       "316171  2021  롯데지알에스(주)스카이31푸드에비뉴제주국제공항4층  1068123498       1     요식/유흥   \n",
       "316172  2022  롯데지알에스(주)스카이31푸드에비뉴제주국제공항4층  1068123498       1     요식/유흥   \n",
       "316173  2022  롯데지알에스(주)스카이31푸드에비뉴제주국제공항4층  1068123498       1     요식/유흥   \n",
       "\n",
       "        MD_CAT MD_CAT_NM              MCT_BSE_AR                     ADDR_new  \\\n",
       "0            2  일식/중식/양식  제주 서귀포시 안덕면 사계남로 186-8  제주특별자치도 서귀포시 안덕면 사계리 2032-7   \n",
       "1            2  일식/중식/양식  제주 서귀포시 안덕면 사계남로 186-8  제주특별자치도 서귀포시 안덕면 사계리 2032-7   \n",
       "2            2  일식/중식/양식  제주 서귀포시 안덕면 사계남로 186-8  제주특별자치도 서귀포시 안덕면 사계리 2032-7   \n",
       "3            2  일식/중식/양식  제주 서귀포시 안덕면 사계남로 186-8  제주특별자치도 서귀포시 안덕면 사계리 2032-7   \n",
       "4            2  일식/중식/양식  제주 서귀포시 안덕면 사계남로 186-8  제주특별자치도 서귀포시 안덕면 사계리 2032-7   \n",
       "...        ...       ...                     ...                          ...   \n",
       "316169       4      기타요식            제주 제주시 공항로 2        제주특별자치도 제주시 용담이동 2002   \n",
       "316170       4      기타요식            제주 제주시 공항로 2        제주특별자치도 제주시 용담이동 2002   \n",
       "316171       4      기타요식            제주 제주시 공항로 2        제주특별자치도 제주시 용담이동 2002   \n",
       "316172       4      기타요식            제주 제주시 공항로 2        제주특별자치도 제주시 용담이동 2002   \n",
       "316173       4      기타요식            제주 제주시 공항로 2        제주특별자치도 제주시 용담이동 2002   \n",
       "\n",
       "       MNTH_SALES_PCTL  DAW_CCD APV_TMT_CD   AGE_GP SEX_CCD  UE_CT   type  \\\n",
       "0            3_25%~50%        1    4_09_12  4_35_39       F     42  도로명주소   \n",
       "1            3_25%~50%        2    6_15_18  2_25_29       F     42  도로명주소   \n",
       "2            3_25%~50%        3    7_18_21  3_30_34       M     42  도로명주소   \n",
       "3            3_25%~50%        5    7_18_21  3_30_34       F     42  도로명주소   \n",
       "4            3_25%~50%        6    6_15_18  2_25_29       M     42  도로명주소   \n",
       "...                ...      ...        ...      ...     ...    ...    ...   \n",
       "316169       1_상위10%이상        2    5_12_15  1_20_24       M     42  도로명주소   \n",
       "316170       1_상위10%이상        4    6_15_18  1_20_24       M     42  도로명주소   \n",
       "316171       1_상위10%이상        5    6_15_18  1_20_24       M     42  도로명주소   \n",
       "316172       1_상위10%이상        4    7_18_21  1_20_24       M     42  도로명주소   \n",
       "316173       1_상위10%이상        1    7_18_21  1_20_24       F     98  도로명주소   \n",
       "\n",
       "       change  SGNG_CD  LGDNG_CD  \n",
       "0          가능    50110     12200  \n",
       "1          가능    50110     12200  \n",
       "2          가능    50110     12200  \n",
       "3          가능    50110     12200  \n",
       "4          가능    50110     12200  \n",
       "...       ...      ...       ...  \n",
       "316169     가능    50110     12200  \n",
       "316170     가능    50110     12200  \n",
       "316171     가능    50110     12200  \n",
       "316172     가능    50110     12200  \n",
       "316173     가능    50110     12200  \n",
       "\n",
       "[316174 rows x 19 columns]"
      ]
     },
     "execution_count": 57,
     "metadata": {},
     "output_type": "execute_result"
    }
   ],
   "source": [
    "t1"
   ]
  },
  {
   "cell_type": "code",
   "execution_count": 58,
   "metadata": {
    "ExecuteTime": {
     "end_time": "2022-09-24T08:20:08.494090Z",
     "start_time": "2022-09-24T08:20:08.423463Z"
    }
   },
   "outputs": [
    {
     "data": {
      "text/plain": [
       "Series([], Name: ADDR_new, dtype: int64)"
      ]
     },
     "execution_count": 58,
     "metadata": {},
     "output_type": "execute_result"
    }
   ],
   "source": [
    "t1[t1['ADDR_new'].apply(lambda x: x[-1]) == '길']['ADDR_new'].value_counts()"
   ]
  },
  {
   "cell_type": "code",
   "execution_count": null,
   "metadata": {},
   "outputs": [],
   "source": []
  }
 ],
 "metadata": {
  "kernelspec": {
   "display_name": "Python 3",
   "language": "python",
   "name": "python3"
  },
  "language_info": {
   "codemirror_mode": {
    "name": "ipython",
    "version": 3
   },
   "file_extension": ".py",
   "mimetype": "text/x-python",
   "name": "python",
   "nbconvert_exporter": "python",
   "pygments_lexer": "ipython3",
   "version": "3.8.5"
  },
  "toc": {
   "base_numbering": 1,
   "nav_menu": {},
   "number_sections": true,
   "sideBar": true,
   "skip_h1_title": false,
   "title_cell": "Table of Contents",
   "title_sidebar": "Contents",
   "toc_cell": false,
   "toc_position": {},
   "toc_section_display": true,
   "toc_window_display": false
  }
 },
 "nbformat": 4,
 "nbformat_minor": 4
}
