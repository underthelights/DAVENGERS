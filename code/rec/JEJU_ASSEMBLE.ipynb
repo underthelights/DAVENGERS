{
 "cells": [
  {
   "cell_type": "markdown",
   "metadata": {},
   "source": [
    "# import, data load"
   ]
  },
  {
   "cell_type": "code",
   "execution_count": 1,
   "metadata": {
    "ExecuteTime": {
     "end_time": "2022-10-13T18:10:36.149586Z",
     "start_time": "2022-10-13T18:10:34.044753Z"
    }
   },
   "outputs": [],
   "source": [
    "import pandas as pd\n",
    "import numpy as np\n",
    "import random\n",
    "from itertools import combinations, permutations\n",
    "from numpy import dot\n",
    "from numpy.linalg import norm"
   ]
  },
  {
   "cell_type": "code",
   "execution_count": 2,
   "metadata": {
    "ExecuteTime": {
     "end_time": "2022-10-13T18:10:36.539692Z",
     "start_time": "2022-10-13T18:10:36.151577Z"
    },
    "scrolled": true
   },
   "outputs": [],
   "source": [
    "df = pd.read_csv('../../data/model/final!!!!!!!!!!!!!!!!!!!!!!!.csv', index_col=0)\n",
    "dist_mat = pd.read_csv('../../data/model/distance_matrix_final.csv', index_col=0)\n",
    "df_food_visit = pd.read_csv('../../data/model/food_with_co2_final.csv', index_col=0)\n",
    "df_acco_visit = pd.read_csv('../../data/model/stay_tagged.csv')"
   ]
  },
  {
   "cell_type": "markdown",
   "metadata": {},
   "source": [
    "1곳 관광지 선택 input"
   ]
  },
  {
   "cell_type": "code",
   "execution_count": 12,
   "metadata": {
    "ExecuteTime": {
     "end_time": "2022-10-13T18:12:16.664541Z",
     "start_time": "2022-10-13T18:12:16.650551Z"
    }
   },
   "outputs": [],
   "source": [
    "user = pd.DataFrame()\n",
    "\n",
    "user['purpose1'] = np.random.rand(1)\n",
    "user['purpose2'] = np.random.rand(1)\n",
    "user['purpose3'] = np.random.rand(1)\n",
    "user['popularity'] = np.random.rand(1)\n",
    "user['bbak'] = np.random.rand(1)\n",
    "user['bab'] = np.random.rand(1)\n",
    "\n",
    "user['car'] = 1 if np.random.rand(1)[0] > 1/2 else 0\n",
    "\n",
    "user['day1'] = 0#np.random.randint(12)\n",
    "user['day2'] = 0#np.random.randint(12)\n",
    "user['day3'] = 0#np.random.randint(12)\n",
    "user['day4'] = 0#np.random.randint(12)\n",
    "\n",
    "user['day'] = 0#np.random.randint(8)"
   ]
  },
  {
   "cell_type": "markdown",
   "metadata": {},
   "source": [
    "2곳 관광지 선택 input"
   ]
  },
  {
   "cell_type": "code",
   "execution_count": null,
   "metadata": {
    "ExecuteTime": {
     "start_time": "2022-10-13T18:23:32.480Z"
    }
   },
   "outputs": [],
   "source": [
    "user = pd.DataFrame()\n",
    "\n",
    "user['purpose1'] = np.random.rand(1)\n",
    "user['purpose2'] = np.random.rand(1)\n",
    "user['purpose3'] = np.random.rand(1)\n",
    "user['popularity'] = np.random.rand(1)\n",
    "user['bbak'] = np.random.rand(1)\n",
    "user['bab'] = np.random.rand(1)\n",
    "\n",
    "user['car'] = 1 if np.random.rand(1)[0] > 1/2 else 0\n",
    "\n",
    "user['day1'] = 3#np.random.randint(12)\n",
    "user['day2'] = 3#np.random.randint(12)\n",
    "user['day3'] = 14#np.random.randint(12)\n",
    "user['day4'] = 14#np.random.randint(12)\n",
    "\n",
    "user['day'] = 3#np.random.randint(8)"
   ]
  },
  {
   "cell_type": "markdown",
   "metadata": {},
   "source": [
    "3곳 관광지 선택 input"
   ]
  },
  {
   "cell_type": "code",
   "execution_count": 17,
   "metadata": {
    "ExecuteTime": {
     "end_time": "2022-10-13T18:21:15.026238Z",
     "start_time": "2022-10-13T18:21:15.002983Z"
    }
   },
   "outputs": [],
   "source": [
    "user = pd.DataFrame()\n",
    "\n",
    "user['purpose1'] = np.random.rand(1)\n",
    "user['purpose2'] = np.random.rand(1)\n",
    "user['purpose3'] = np.random.rand(1)\n",
    "user['popularity'] = np.random.rand(1)\n",
    "user['bbak'] = np.random.rand(1)\n",
    "user['bab'] = np.random.rand(1)\n",
    "\n",
    "user['car'] = 1 if np.random.rand(1)[0] > 1/2 else 0\n",
    "\n",
    "user['day1'] = 5#np.random.randint(12)\n",
    "user['day2'] = 10#np.random.randint(12)\n",
    "user['day3'] = 16#np.random.randint(12)\n",
    "user['day4'] = 16#np.random.randint(12)\n",
    "\n",
    "user['day'] = 5#np.random.randint(8)"
   ]
  },
  {
   "cell_type": "markdown",
   "metadata": {},
   "source": [
    "4곳 관광지 선택 input"
   ]
  },
  {
   "cell_type": "code",
   "execution_count": 6,
   "metadata": {
    "ExecuteTime": {
     "end_time": "2022-10-13T18:10:40.841108Z",
     "start_time": "2022-10-13T18:10:40.819787Z"
    }
   },
   "outputs": [],
   "source": [
    "user = pd.DataFrame()\n",
    "\n",
    "user['purpose1'] = np.random.rand(1)\n",
    "user['purpose2'] = np.random.rand(1)\n",
    "user['purpose3'] = np.random.rand(1)\n",
    "user['popularity'] = np.random.rand(1)\n",
    "user['bbak'] = np.random.rand(1)\n",
    "user['bab'] = np.random.rand(1)\n",
    "\n",
    "user['car'] = 1 if np.random.rand(1)[0] > 1/2 else 0\n",
    "\n",
    "user['day1'] = 1#np.random.randint(12)\n",
    "user['day2'] = 2#np.random.randint(12)\n",
    "user['day3'] = 6#np.random.randint(12)\n",
    "user['day4'] = 7#np.random.randint(12)\n",
    "\n",
    "user['day'] = 7#np.random.randint(8)"
   ]
  },
  {
   "cell_type": "markdown",
   "metadata": {},
   "source": [
    "model input data 최종형태"
   ]
  },
  {
   "cell_type": "code",
   "execution_count": 7,
   "metadata": {
    "ExecuteTime": {
     "end_time": "2022-10-13T18:10:42.721293Z",
     "start_time": "2022-10-13T18:10:42.653114Z"
    },
    "scrolled": true
   },
   "outputs": [
    {
     "data": {
      "text/html": [
       "<div>\n",
       "<style scoped>\n",
       "    .dataframe tbody tr th:only-of-type {\n",
       "        vertical-align: middle;\n",
       "    }\n",
       "\n",
       "    .dataframe tbody tr th {\n",
       "        vertical-align: top;\n",
       "    }\n",
       "\n",
       "    .dataframe thead th {\n",
       "        text-align: right;\n",
       "    }\n",
       "</style>\n",
       "<table border=\"1\" class=\"dataframe\">\n",
       "  <thead>\n",
       "    <tr style=\"text-align: right;\">\n",
       "      <th></th>\n",
       "      <th>이름</th>\n",
       "      <th>purpose1</th>\n",
       "      <th>purpose2</th>\n",
       "      <th>purpose3</th>\n",
       "      <th>popularity</th>\n",
       "      <th>co2</th>\n",
       "      <th>loc1</th>\n",
       "      <th>loc2</th>\n",
       "      <th>주변관광지</th>\n",
       "      <th>주변음식점</th>\n",
       "      <th>주변숙박</th>\n",
       "    </tr>\n",
       "  </thead>\n",
       "  <tbody>\n",
       "    <tr>\n",
       "      <th>0</th>\n",
       "      <td>성산일출봉(UNESCO 세계자연유산)</td>\n",
       "      <td>0.771565</td>\n",
       "      <td>0.682662</td>\n",
       "      <td>0.948563</td>\n",
       "      <td>0.692564</td>\n",
       "      <td>7.606409</td>\n",
       "      <td>15</td>\n",
       "      <td>13</td>\n",
       "      <td>['성산일출봉(UNESCO 세계자연유산)', '광치기해변', '우도잠수함(제주씨월드...</td>\n",
       "      <td>['맛나식당', '성산회관', '경미네집(경미휴게소)', '바다의집', '그리운바다...</td>\n",
       "      <td>['아름다운리조트', '플레이스 캠프 제주', '골든튤립 제주 성산호텔', '봄그리...</td>\n",
       "    </tr>\n",
       "    <tr>\n",
       "      <th>1</th>\n",
       "      <td>사려니숲길</td>\n",
       "      <td>0.376859</td>\n",
       "      <td>0.325865</td>\n",
       "      <td>0.345421</td>\n",
       "      <td>0.693147</td>\n",
       "      <td>4.831689</td>\n",
       "      <td>1</td>\n",
       "      <td>0</td>\n",
       "      <td>['사려니숲길', '제주돌문화공원', '노루생태관찰원', '샤이니숲길', '물찻오름...</td>\n",
       "      <td>[]</td>\n",
       "      <td>[]</td>\n",
       "    </tr>\n",
       "    <tr>\n",
       "      <th>2</th>\n",
       "      <td>카멜리아힐</td>\n",
       "      <td>0.374966</td>\n",
       "      <td>0.568843</td>\n",
       "      <td>0.391210</td>\n",
       "      <td>0.689060</td>\n",
       "      <td>3.687691</td>\n",
       "      <td>8</td>\n",
       "      <td>4</td>\n",
       "      <td>['카멜리아힐', '아라고나이트 온천(디아넥스호텔)', '방주교회', '헬로키티아일...</td>\n",
       "      <td>['아뜰리에 제주명월', '숨비나리카페', '창천삼거리식당', '숨비나리', '헬로...</td>\n",
       "      <td>['디아넥스 호텔', '중문훼미리리조트', '서귀포호텔 카라반', '레이크힐스 제주...</td>\n",
       "    </tr>\n",
       "    <tr>\n",
       "      <th>3</th>\n",
       "      <td>협재해수욕장</td>\n",
       "      <td>0.740964</td>\n",
       "      <td>0.488754</td>\n",
       "      <td>0.494228</td>\n",
       "      <td>0.689645</td>\n",
       "      <td>1.639161</td>\n",
       "      <td>5</td>\n",
       "      <td>4</td>\n",
       "      <td>['협재해수욕장', '한림공원', '금능해수욕장', '비양도', '월령선인장군락지'...</td>\n",
       "      <td>['명랑스낵', '피어22', '협재해녀의집', '앤트러사이트', '수우동', '명...</td>\n",
       "      <td>['inn jeju 인제주 게스트하우스', '객의하우스', '블루하와이리조트', '...</td>\n",
       "    </tr>\n",
       "    <tr>\n",
       "      <th>4</th>\n",
       "      <td>월정리해변</td>\n",
       "      <td>0.625939</td>\n",
       "      <td>0.477449</td>\n",
       "      <td>0.401614</td>\n",
       "      <td>0.687889</td>\n",
       "      <td>1.639161</td>\n",
       "      <td>16</td>\n",
       "      <td>13</td>\n",
       "      <td>['만장굴', '월정리해변', '월정리 카약체험장', '해맞이해안로', '타보카 월...</td>\n",
       "      <td>['구좌상회', '슬슬슬로우', '민경이네어등포해녀촌', '카페콧수염', '월정리에...</td>\n",
       "      <td>['소풍(월정리)', '동박생이', '여울목게스트하우스(월정리)', '뒹글하우스',...</td>\n",
       "    </tr>\n",
       "    <tr>\n",
       "      <th>...</th>\n",
       "      <td>...</td>\n",
       "      <td>...</td>\n",
       "      <td>...</td>\n",
       "      <td>...</td>\n",
       "      <td>...</td>\n",
       "      <td>...</td>\n",
       "      <td>...</td>\n",
       "      <td>...</td>\n",
       "      <td>...</td>\n",
       "      <td>...</td>\n",
       "      <td>...</td>\n",
       "    </tr>\n",
       "    <tr>\n",
       "      <th>853</th>\n",
       "      <td>황금굴(한림공원)</td>\n",
       "      <td>0.388605</td>\n",
       "      <td>0.290734</td>\n",
       "      <td>0.555345</td>\n",
       "      <td>0.498158</td>\n",
       "      <td>20.802554</td>\n",
       "      <td>5</td>\n",
       "      <td>4</td>\n",
       "      <td>['협재해수욕장', '한림공원', '금능해수욕장', '비양도', '월령선인장군락지'...</td>\n",
       "      <td>['명랑스낵', '피어22', '협재해녀의집', '앤트러사이트', '수우동', '명...</td>\n",
       "      <td>['inn jeju 인제주 게스트하우스', '객의하우스', '블루하와이리조트', '...</td>\n",
       "    </tr>\n",
       "    <tr>\n",
       "      <th>854</th>\n",
       "      <td>황우럭만화천국사회적협동조합</td>\n",
       "      <td>0.091287</td>\n",
       "      <td>0.194221</td>\n",
       "      <td>0.206500</td>\n",
       "      <td>0.148139</td>\n",
       "      <td>0.274621</td>\n",
       "      <td>5</td>\n",
       "      <td>4</td>\n",
       "      <td>['한라산소주공장', '이랜드뮤지엄', '한림항', '한림바다체험마을', '한림해안...</td>\n",
       "      <td>['명랑스낵', '한림칼국수', '협재해녀의집', '앤트러사이트', '수우동', '...</td>\n",
       "      <td>['inn jeju 인제주 게스트하우스', '객의하우스', '켄싱턴리조트 제주 한림...</td>\n",
       "    </tr>\n",
       "    <tr>\n",
       "      <th>855</th>\n",
       "      <td>효명사</td>\n",
       "      <td>0.355257</td>\n",
       "      <td>0.201228</td>\n",
       "      <td>0.306002</td>\n",
       "      <td>0.443579</td>\n",
       "      <td>5.339332</td>\n",
       "      <td>12</td>\n",
       "      <td>9</td>\n",
       "      <td>['고살리숲길', '효명사', '이승이오름(이승악)', '망장포', '감귤상웨빵 체...</td>\n",
       "      <td>['하례정원', '내창생태카페', '한라성']</td>\n",
       "      <td>['예이츠산장', '뜨레향 펜션', '셋째날', '해뜨는집 (남원)']</td>\n",
       "    </tr>\n",
       "    <tr>\n",
       "      <th>856</th>\n",
       "      <td>후포해변</td>\n",
       "      <td>0.123643</td>\n",
       "      <td>0.029678</td>\n",
       "      <td>0.116400</td>\n",
       "      <td>0.330460</td>\n",
       "      <td>0.188619</td>\n",
       "      <td>2</td>\n",
       "      <td>0</td>\n",
       "      <td>['최영장군사당', '제주올레 18-1코스', '추자도등대', '나바론절벽', '후...</td>\n",
       "      <td>['추자도중앙식당', '제일식당', '커피앤빵', '오동여식당', 'BBQ치킨 추자...</td>\n",
       "      <td>['나바론민박', '추자도민박', '유심이감성하우스민박', '아름다운펜션민박', '...</td>\n",
       "    </tr>\n",
       "    <tr>\n",
       "      <th>857</th>\n",
       "      <td>휴림</td>\n",
       "      <td>0.255390</td>\n",
       "      <td>0.748590</td>\n",
       "      <td>0.306501</td>\n",
       "      <td>0.545193</td>\n",
       "      <td>0.066487</td>\n",
       "      <td>3</td>\n",
       "      <td>0</td>\n",
       "      <td>['1100고지습지', '한라산어리목코스', '윗세오름(웃세오름)', '휴림', '...</td>\n",
       "      <td>['보말고을', '다가미 애월점', '윈드스톤']</td>\n",
       "      <td>['올레프로방스', '토토하우스']</td>\n",
       "    </tr>\n",
       "  </tbody>\n",
       "</table>\n",
       "<p>858 rows × 11 columns</p>\n",
       "</div>"
      ],
      "text/plain": [
       "                       이름  purpose1  purpose2  purpose3  popularity  \\\n",
       "0    성산일출봉(UNESCO 세계자연유산)  0.771565  0.682662  0.948563    0.692564   \n",
       "1                   사려니숲길  0.376859  0.325865  0.345421    0.693147   \n",
       "2                   카멜리아힐  0.374966  0.568843  0.391210    0.689060   \n",
       "3                  협재해수욕장  0.740964  0.488754  0.494228    0.689645   \n",
       "4                   월정리해변  0.625939  0.477449  0.401614    0.687889   \n",
       "..                    ...       ...       ...       ...         ...   \n",
       "853             황금굴(한림공원)  0.388605  0.290734  0.555345    0.498158   \n",
       "854        황우럭만화천국사회적협동조합  0.091287  0.194221  0.206500    0.148139   \n",
       "855                   효명사  0.355257  0.201228  0.306002    0.443579   \n",
       "856                  후포해변  0.123643  0.029678  0.116400    0.330460   \n",
       "857                    휴림  0.255390  0.748590  0.306501    0.545193   \n",
       "\n",
       "           co2  loc1  loc2                                              주변관광지  \\\n",
       "0     7.606409    15    13  ['성산일출봉(UNESCO 세계자연유산)', '광치기해변', '우도잠수함(제주씨월드...   \n",
       "1     4.831689     1     0  ['사려니숲길', '제주돌문화공원', '노루생태관찰원', '샤이니숲길', '물찻오름...   \n",
       "2     3.687691     8     4  ['카멜리아힐', '아라고나이트 온천(디아넥스호텔)', '방주교회', '헬로키티아일...   \n",
       "3     1.639161     5     4  ['협재해수욕장', '한림공원', '금능해수욕장', '비양도', '월령선인장군락지'...   \n",
       "4     1.639161    16    13  ['만장굴', '월정리해변', '월정리 카약체험장', '해맞이해안로', '타보카 월...   \n",
       "..         ...   ...   ...                                                ...   \n",
       "853  20.802554     5     4  ['협재해수욕장', '한림공원', '금능해수욕장', '비양도', '월령선인장군락지'...   \n",
       "854   0.274621     5     4  ['한라산소주공장', '이랜드뮤지엄', '한림항', '한림바다체험마을', '한림해안...   \n",
       "855   5.339332    12     9  ['고살리숲길', '효명사', '이승이오름(이승악)', '망장포', '감귤상웨빵 체...   \n",
       "856   0.188619     2     0  ['최영장군사당', '제주올레 18-1코스', '추자도등대', '나바론절벽', '후...   \n",
       "857   0.066487     3     0  ['1100고지습지', '한라산어리목코스', '윗세오름(웃세오름)', '휴림', '...   \n",
       "\n",
       "                                                 주변음식점  \\\n",
       "0    ['맛나식당', '성산회관', '경미네집(경미휴게소)', '바다의집', '그리운바다...   \n",
       "1                                                   []   \n",
       "2    ['아뜰리에 제주명월', '숨비나리카페', '창천삼거리식당', '숨비나리', '헬로...   \n",
       "3    ['명랑스낵', '피어22', '협재해녀의집', '앤트러사이트', '수우동', '명...   \n",
       "4    ['구좌상회', '슬슬슬로우', '민경이네어등포해녀촌', '카페콧수염', '월정리에...   \n",
       "..                                                 ...   \n",
       "853  ['명랑스낵', '피어22', '협재해녀의집', '앤트러사이트', '수우동', '명...   \n",
       "854  ['명랑스낵', '한림칼국수', '협재해녀의집', '앤트러사이트', '수우동', '...   \n",
       "855                          ['하례정원', '내창생태카페', '한라성']   \n",
       "856  ['추자도중앙식당', '제일식당', '커피앤빵', '오동여식당', 'BBQ치킨 추자...   \n",
       "857                        ['보말고을', '다가미 애월점', '윈드스톤']   \n",
       "\n",
       "                                                  주변숙박  \n",
       "0    ['아름다운리조트', '플레이스 캠프 제주', '골든튤립 제주 성산호텔', '봄그리...  \n",
       "1                                                   []  \n",
       "2    ['디아넥스 호텔', '중문훼미리리조트', '서귀포호텔 카라반', '레이크힐스 제주...  \n",
       "3    ['inn jeju 인제주 게스트하우스', '객의하우스', '블루하와이리조트', '...  \n",
       "4    ['소풍(월정리)', '동박생이', '여울목게스트하우스(월정리)', '뒹글하우스',...  \n",
       "..                                                 ...  \n",
       "853  ['inn jeju 인제주 게스트하우스', '객의하우스', '블루하와이리조트', '...  \n",
       "854  ['inn jeju 인제주 게스트하우스', '객의하우스', '켄싱턴리조트 제주 한림...  \n",
       "855            ['예이츠산장', '뜨레향 펜션', '셋째날', '해뜨는집 (남원)']  \n",
       "856  ['나바론민박', '추자도민박', '유심이감성하우스민박', '아름다운펜션민박', '...  \n",
       "857                                ['올레프로방스', '토토하우스']  \n",
       "\n",
       "[858 rows x 11 columns]"
      ]
     },
     "metadata": {},
     "output_type": "display_data"
    },
    {
     "data": {
      "text/html": [
       "<div>\n",
       "<style scoped>\n",
       "    .dataframe tbody tr th:only-of-type {\n",
       "        vertical-align: middle;\n",
       "    }\n",
       "\n",
       "    .dataframe tbody tr th {\n",
       "        vertical-align: top;\n",
       "    }\n",
       "\n",
       "    .dataframe thead th {\n",
       "        text-align: right;\n",
       "    }\n",
       "</style>\n",
       "<table border=\"1\" class=\"dataframe\">\n",
       "  <thead>\n",
       "    <tr style=\"text-align: right;\">\n",
       "      <th></th>\n",
       "      <th>purpose1</th>\n",
       "      <th>purpose2</th>\n",
       "      <th>purpose3</th>\n",
       "      <th>popularity</th>\n",
       "      <th>bbak</th>\n",
       "      <th>bab</th>\n",
       "      <th>car</th>\n",
       "      <th>day1</th>\n",
       "      <th>day2</th>\n",
       "      <th>day3</th>\n",
       "      <th>day4</th>\n",
       "      <th>day</th>\n",
       "    </tr>\n",
       "  </thead>\n",
       "  <tbody>\n",
       "    <tr>\n",
       "      <th>0</th>\n",
       "      <td>0.899597</td>\n",
       "      <td>0.598218</td>\n",
       "      <td>0.691777</td>\n",
       "      <td>0.642675</td>\n",
       "      <td>0.837682</td>\n",
       "      <td>0.521562</td>\n",
       "      <td>0</td>\n",
       "      <td>1</td>\n",
       "      <td>2</td>\n",
       "      <td>6</td>\n",
       "      <td>7</td>\n",
       "      <td>7</td>\n",
       "    </tr>\n",
       "  </tbody>\n",
       "</table>\n",
       "</div>"
      ],
      "text/plain": [
       "   purpose1  purpose2  purpose3  popularity      bbak       bab  car  day1  \\\n",
       "0  0.899597  0.598218  0.691777    0.642675  0.837682  0.521562    0     1   \n",
       "\n",
       "   day2  day3  day4  day  \n",
       "0     2     6     7    7  "
      ]
     },
     "metadata": {},
     "output_type": "display_data"
    }
   ],
   "source": [
    "display(df)\n",
    "display(user)"
   ]
  },
  {
   "cell_type": "markdown",
   "metadata": {},
   "source": [
    "# MODEL\n",
    "1. 관광지 위치, 인기도를 고려하여 1100개의 관광지 중 일부를 필터링"
   ]
  },
  {
   "cell_type": "code",
   "execution_count": 8,
   "metadata": {
    "ExecuteTime": {
     "end_time": "2022-10-13T18:10:45.132865Z",
     "start_time": "2022-10-13T18:10:45.118739Z"
    }
   },
   "outputs": [],
   "source": [
    "# def babta(num_tour, num_tour_weight):\n",
    "#     if num_tour == 2:\n",
    "#         return [0,1]\n",
    "#     elif num_tour == 3:\n",
    "#         return [0,1]\n",
    "#     elif num_tour == 4:\n",
    "#         return [0,2]\n",
    "#     elif num_tour == 5:\n",
    "#         return [0,2]"
   ]
  },
  {
   "cell_type": "code",
   "execution_count": 9,
   "metadata": {
    "ExecuteTime": {
     "end_time": "2022-10-13T18:10:45.493321Z",
     "start_time": "2022-10-13T18:10:45.474819Z"
    }
   },
   "outputs": [],
   "source": [
    "def babta(num_tour, num_tour_weight):\n",
    "    if num_tour == 2:\n",
    "        return [i+j*num_tour for j in range(num_tour_weight) for i in [0,1]]\n",
    "    elif num_tour == 3:\n",
    "        return [i+j*num_tour for j in range(num_tour_weight) for i in [0,1]]\n",
    "    elif num_tour == 4:\n",
    "        return [i+j*num_tour for j in range(num_tour_weight) for i in [0,2]]\n",
    "    elif num_tour == 5:\n",
    "        return [i+j*num_tour for j in range(num_tour_weight) for i in [0,2]]"
   ]
  },
  {
   "cell_type": "code",
   "execution_count": 16,
   "metadata": {
    "ExecuteTime": {
     "end_time": "2022-10-13T18:20:54.170016Z",
     "start_time": "2022-10-13T18:20:54.112918Z"
    }
   },
   "outputs": [],
   "source": [
    "def assemble(df, user):\n",
    "    #총 iter 횟수, filtered_df의 개수, combination의 수를 조절하는 역할\n",
    "    if user['day'].values[0] in (0, 1):\n",
    "        epochs = 1 \n",
    "    elif user['day'].values[0] in (2, 3):\n",
    "        epochs = 2\n",
    "    elif user['day'].values[0] in (4, 5):\n",
    "        epochs = 3\n",
    "    elif user['day'].values[0] in (6, 7):\n",
    "        epochs = 4\n",
    "\n",
    "    # 관광지 주변 식당, 숙소가 없을 때 사용하는 지역별 추천 식당, 숙소\n",
    "    good_food = {0:'숙성도 노형본관', 1:'고집돌우럭 제주함덕점', 2:'우진해장국', 3:'제주광해 애월', 4:'별돈별 협재해변점', 5:'한림칼국수 제주본점', 6:'판포미인', 7:'미영이네식당', 8:'춘심이네 본점', 9:'삼강식당', 10:'형제도식당', 11:'고집돌우럭 중문점', 12:'공천포식당', 13:'성산가는길', 14:'만덕이네', 15:'가시아방국수', 16:'비자림국수집'}\n",
    "    good_acco = {0:'섬타임즈제주', 1:'제주조천스위스마을게스트하우스', 2:'섬타임즈제주', 3:'나미송 머무는 곳', 4:'코즈게스트하우스', 5:'inn jeju 인제주 게스트하우스', 6:'틸다하우스', 7:'JAY&CHLOE', 8:'코즈게스트하우스', 9:'나날 게스트하우스', 10:'여행스케치 펜션', 11:'나날 게스트하우스', 12:'르페도라', 13:'메종드오조락', 14:'제주통나무휴양펜션', 15:'메종드오조락', 16:'제주가좋아서 펜션'}\n",
    "    \n",
    "    whole_route = ['제주공항']\n",
    "    print('맑은 제주, 밝은 별 : 친환경 제주 여행 시작 !')\n",
    "    for epoch in range(epochs):\n",
    "        #\n",
    "        if user.bbak.values < 0.3:\n",
    "            num_tour = 2\n",
    "        elif user.bbak.values < 0.7:\n",
    "            num_tour = 3\n",
    "        else:\n",
    "            num_tour = 4\n",
    "            \n",
    "        if epochs != 3:\n",
    "            num_tour_weight = int(4/epochs)\n",
    "            if epochs == 1:\n",
    "                print('***/DAY 1,2,3,4/***')\n",
    "            elif epochs == 2:\n",
    "                print(f'***/DAY {2*epoch+1},{2*epoch+2}/***')\n",
    "            elif epochs == 4:\n",
    "                print(f'***/DAY {epoch+1}/***')\n",
    "        else:\n",
    "            if epoch != 2:\n",
    "                print(f'***/DAY {epoch+1}/***')\n",
    "                num_tour_weight = 1\n",
    "            else:\n",
    "                print(f'***/DAY 3,4/***')\n",
    "                num_tour_weight = 2\n",
    "\n",
    "        num_tour += user.car.values\n",
    "        num_tour = num_tour[0]\n",
    "        num_tour_weighted = num_tour * num_tour_weight\n",
    "        \n",
    "        num_day = epoch if epochs != 2 else epoch*2\n",
    "        daily_loc = user[f'day{num_day+1}'].values[0]\n",
    "        if user[f'day{num_day+1}'].values[0] in (0, 4, 9, 13):\n",
    "            filtered_df = df.loc[df['loc2']==daily_loc].loc[df['popularity']>.5].sample(n=22)\n",
    "        else:\n",
    "            filtered_df = df.loc[df['loc1']==daily_loc].loc[df['popularity']>.25].sample(n=22)\n",
    "    \n",
    "        L = []\n",
    "        for comb in combinations(filtered_df.index, num_tour_weighted):\n",
    "            L.append(filtered_df.loc[comb, ['purpose1','purpose2','purpose3','popularity']].sum().values)\n",
    "\n",
    "        combination = list(combinations(filtered_df.index, num_tour_weighted))\n",
    "        df_tour = pd.DataFrame(combination)\n",
    "\n",
    "        M = []\n",
    "        for idx in df_tour.index:\n",
    "            M.append(filtered_df.loc[df_tour.loc[idx, :].values, 'co2'].sum())\n",
    "        df_tour['co2'] = M\n",
    "\n",
    "        cos_sim = []\n",
    "        for a in L:\n",
    "            b = user[['purpose1','purpose2','purpose3','popularity']].values.reshape(4,)\n",
    "            cos_sim.append(dot(a, b)/(norm(a)*norm(b)))\n",
    "        df_tour['similarity'] = cos_sim\n",
    "\n",
    "        df_tour_sorted = df_tour.sort_values(by='similarity', ascending=False)\n",
    "        recommended_tour = df_tour_sorted.loc[df_tour_sorted['co2']<df_tour.co2.quantile(0.25), [i for i in range(num_tour_weighted)]].iloc[0].values\n",
    "\n",
    "        dist_list = []\n",
    "        min_route = 0\n",
    "        \n",
    "        if len(recommended_tour)>=8:\n",
    "            min_route = [i for i in df.loc[recommended_tour, 'loc1'].sort_values().index]\n",
    "        else:\n",
    "            for idx, perm in enumerate(permutations(recommended_tour)):\n",
    "                total_dist = 0\n",
    "                min_dist = 987654321\n",
    "                for i in range(len(recommended_tour)-1):\n",
    "                    total_dist += dist_mat.loc[perm[i], f'{perm[i+1]}']\n",
    "                    min_dist = min(total_dist, min_dist)\n",
    "                    if min_dist == total_dist:\n",
    "                        continue\n",
    "                    elif min_dist < total_dist:\n",
    "                        min_route = perm\n",
    "        \n",
    "        daily_route = []\n",
    "\n",
    "        ####### 식당\n",
    "        flag = 0\n",
    "        for i, point in enumerate(min_route):\n",
    "            print('관광 :', df.loc[point, '이름'])\n",
    "            daily_route.append(df.loc[point, '이름'])\n",
    "            if i in babta(num_tour, num_tour_weight): #관광끝내고 밥먹을 곳 선택\n",
    "                food_list = []\n",
    "                for rests in df.loc[df['이름']==df.loc[point, '이름'], '주변음식점'].apply(lambda x: [y.strip()[1:-1] for y in x[1:-1].split(',')]):\n",
    "                    for j in rests:\n",
    "                        food_co2 = df_food_visit.loc[df_food_visit['이름']==j, 'co2_rank'].values\n",
    "                        food_pop = df_food_visit.loc[df_food_visit['이름']==j, 'pop'].values\n",
    "                        #print(food_co2, food_pop)\n",
    "                        #이름으로 검색되는 애들\n",
    "                        if food_co2.size>0:\n",
    "                            food_list.append((food_co2[0], food_pop[0], j))\n",
    "                        #이름으로 검색 안되는 애들\n",
    "                        else:\n",
    "                            continue\n",
    "                if food_list:\n",
    "                    daily_route.append(sorted([(((1-user.bab.values)*i + user.bab.values*j)[0], k) for i, j, k in food_list], reverse=True)[0][1])\n",
    "                    if flag == 0:\n",
    "                        print('점심 :', sorted([((2*(1-user.bab.values)*i + user.bab.values*j)[0], k) for i, j, k in food_list], reverse=True)[0][1])\n",
    "                        flag = 1\n",
    "                    else:\n",
    "                        print('저녁 :', sorted([(((1-user.bab.values)*i + 2*user.bab.values*j)[0], k) for i, j, k in food_list], reverse=True)[0][1])\n",
    "                        flag = 0\n",
    "                else:\n",
    "                    daily_route.append(f'{good_food[daily_loc]}')\n",
    "                    if flag == 0:\n",
    "                        print(f'점심 : {good_food[daily_loc]}')\n",
    "                        flag = 1\n",
    "                    else:\n",
    "                        print(f'저녁 : {good_food[daily_loc]}')\n",
    "                        flag = 0\n",
    "\n",
    "        ####### 숙소\n",
    "        acco_list = []\n",
    "        for i in df.loc[df['이름']==df.loc[min_route[-1], '이름'], '주변숙박'].apply(lambda x: [y.strip()[1:-1] for y in x[1:-1].split(',')]):\n",
    "            for j in i:\n",
    "                acco_sort = df_acco_visit.loc[df_acco_visit['이름']==j, '숙박업종'].values\n",
    "                if acco_sort.size>0:\n",
    "                    acco_list.append((acco_sort[0], j))\n",
    "                else:\n",
    "                    if '호텔' in j:\n",
    "                        acco_sort = '호텔'\n",
    "                    elif ('리조트' in j) or ('콘도' in j):\n",
    "                        acco_sort = '리조트/콘도'\n",
    "                    elif ('펜션' in j) or ('민박' in j):\n",
    "                        acco_sort = '펜션/민박'\n",
    "                    elif ('모텔' in j) or ('여관' in j):\n",
    "                        acco_sort = '모텔/여관'\n",
    "                    elif ('게스트하우스' in j):\n",
    "                        acco_sort = '게스트하우스'\n",
    "                    elif ('캠핑' in j) or ('글램핑' in j):\n",
    "                        acco_sort = '캠핑/글램핑'\n",
    "                    else:\n",
    "                        continue\n",
    "                    acco_list.append((acco_sort, j))\n",
    "        \n",
    "        if acco_list == []:\n",
    "            acco_list.append((-1, -1))\n",
    "        if user.bbak.values < 0.2:\n",
    "            recommened_acco = random.choice([j if (i=='호텔') or (i=='리조트/콘도') else '' for i, j in acco_list])\n",
    "        elif user.bbak.values < 0.8:\n",
    "            recommened_acco = random.choice([j if (i=='펜션/민박') or (i=='모텔/여관') else '' for i, j in acco_list])\n",
    "        else:\n",
    "            recommened_acco = random.choice([j if (i=='게스트하우스') or (i=='캠핑/글램핑') else '' for i, j in acco_list])\n",
    "\n",
    "        if recommened_acco:\n",
    "            print('숙소 :', recommened_acco)\n",
    "            daily_route.append(recommened_acco)\n",
    "        else:\n",
    "            print(f'숙소 : {good_acco[daily_loc]}')\n",
    "            daily_route.append(f'{good_acco[daily_loc]}')\n",
    "        whole_route.extend(daily_route)\n",
    "    \n",
    "    return whole_route"
   ]
  },
  {
   "cell_type": "markdown",
   "metadata": {},
   "source": [
    "1곳 관광지 선택 output"
   ]
  },
  {
   "cell_type": "code",
   "execution_count": 15,
   "metadata": {
    "ExecuteTime": {
     "end_time": "2022-10-13T18:16:35.639440Z",
     "start_time": "2022-10-13T18:14:00.614974Z"
    }
   },
   "outputs": [
    {
     "name": "stdout",
     "output_type": "stream",
     "text": [
      "맑은 제주, 밝은 별 : 친환경 제주 여행 시작 !\n",
      "***/DAY 1,2,3,4/***\n",
      "관광 : 닭머르해안길\n",
      "점심 : 신촌덕인당\n",
      "관광 : 제주레포츠랜드\n",
      "관광 : 서프라이즈테마파크\n",
      "저녁 : 맥파이 브루어리\n",
      "관광 : 한라산국립공원\n",
      "관광 : 도두항\n",
      "점심 : 카페 도두\n",
      "관광 : 용연\n",
      "관광 : 어승생\n",
      "저녁 : 숙성도 노형본관\n",
      "관광 : 김만덕객주\n",
      "관광 : 두맹이골목\n",
      "점심 : 살롱드라방 SALON de LAVANT\n",
      "관광 : 전농로 서사라문화거리\n",
      "관광 : 민속자연사박물관\n",
      "저녁 : 살롱드라방 SALON de LAVANT\n",
      "관광 : 제주올레 18코스\n",
      "관광 : 익스트림제주 카약올레\n",
      "점심 : 그대와함께라면\n",
      "관광 : 애월한담해안산책로\n",
      "관광 : 제주빅볼랜드\n",
      "저녁 : 새빌\n",
      "관광 : 애월해안도로\n",
      "숙소 : 섬타임즈제주\n"
     ]
    },
    {
     "data": {
      "text/plain": [
       "['제주공항',\n",
       " '닭머르해안길',\n",
       " '신촌덕인당',\n",
       " '제주레포츠랜드',\n",
       " '서프라이즈테마파크',\n",
       " '맥파이 브루어리',\n",
       " '한라산국립공원',\n",
       " '도두항',\n",
       " '카페 도두',\n",
       " '용연',\n",
       " '어승생',\n",
       " '숙성도 노형본관',\n",
       " '김만덕객주',\n",
       " '두맹이골목',\n",
       " '살롱드라방 SALON de LAVANT',\n",
       " '전농로 서사라문화거리',\n",
       " '민속자연사박물관',\n",
       " '살롱드라방 SALON de LAVANT',\n",
       " '제주올레 18코스',\n",
       " '익스트림제주 카약올레',\n",
       " '그대와함께라면',\n",
       " '애월한담해안산책로',\n",
       " '제주빅볼랜드',\n",
       " '새빌',\n",
       " '애월해안도로',\n",
       " '섬타임즈제주']"
      ]
     },
     "execution_count": 15,
     "metadata": {},
     "output_type": "execute_result"
    }
   ],
   "source": [
    "assemble(df, user)"
   ]
  },
  {
   "cell_type": "markdown",
   "metadata": {},
   "source": [
    "2곳 관광지 선택 output"
   ]
  },
  {
   "cell_type": "code",
   "execution_count": null,
   "metadata": {
    "ExecuteTime": {
     "start_time": "2022-10-13T18:23:37.680Z"
    }
   },
   "outputs": [],
   "source": [
    "assemble(df, user)"
   ]
  },
  {
   "cell_type": "markdown",
   "metadata": {},
   "source": [
    "3곳 관광지 선택 output"
   ]
  },
  {
   "cell_type": "code",
   "execution_count": null,
   "metadata": {
    "ExecuteTime": {
     "start_time": "2022-10-13T18:21:33.514Z"
    }
   },
   "outputs": [
    {
     "name": "stdout",
     "output_type": "stream",
     "text": [
      "맑은 제주, 밝은 별 : 친환경 제주 여행 시작 !\n",
      "***/DAY 1/***\n",
      "관광 : 협재해수욕장\n",
      "점심 : 피어22\n",
      "관광 : 이랜드뮤지엄\n",
      "관광 : 비양도의 비양나무자생지\n",
      "저녁 : 살롱드라방 SALON de LAVANT\n",
      "관광 : 한림바다체험마을\n",
      "숙소 : 퐁낭하우스제주\n",
      "***/DAY 2/***\n",
      "관광 : 박물관은 살아있다\n",
      "점심 : 몽키비치클럽 Monkey Beach\n",
      "관광 : 퍼시픽 리솜 요트투어 샹그릴라\n",
      "관광 : 시크릿가든촬영지\n",
      "저녁 : 몽키비치클럽 Monkey Beach\n",
      "관광 : 제주국제평화센터\n",
      "숙소 : 지삿개풍경\n",
      "***/DAY 3,4/***\n"
     ]
    }
   ],
   "source": [
    "assemble(df, user)"
   ]
  },
  {
   "cell_type": "markdown",
   "metadata": {},
   "source": [
    "4곳 관광지 선택 output"
   ]
  },
  {
   "cell_type": "code",
   "execution_count": 11,
   "metadata": {
    "ExecuteTime": {
     "end_time": "2022-10-13T18:11:52.404029Z",
     "start_time": "2022-10-13T18:10:50.096479Z"
    },
    "scrolled": false
   },
   "outputs": [
    {
     "name": "stdout",
     "output_type": "stream",
     "text": [
      "맑은 제주, 밝은 별 : 친환경 제주 여행 시작 !\n",
      "***/DAY 1/***\n",
      "관광 : 제주라프 짚라인\n",
      "점심 : 카페동백\n",
      "관광 : 민오름(조천읍)\n",
      "관광 : 바늘오름\n",
      "저녁 : 더로맨틱\n",
      "관광 : 동백동산\n",
      "숙소 : 제주조천스위스마을게스트하우스\n",
      "***/DAY 2/***\n",
      "관광 : 원당봉\n",
      "점심 : 신촌덕인당\n",
      "관광 : 알작지해변\n",
      "관광 : 참살이마을 명도암 농어촌체험마을\n",
      "저녁 : 맥파이 브루어리\n",
      "관광 : 월대천\n",
      "숙소 : 섬타임즈제주\n",
      "***/DAY 3/***\n",
      "관광 : 당산봉(당오름,차귀오름)\n",
      "점심 : 차귀놀\n",
      "관광 : 제주올레 13코스\n",
      "관광 : 산양곶자왈\n",
      "저녁 : 토향\n",
      "관광 : 생이기정\n",
      "숙소 : 하바나블루스\n",
      "***/DAY 4/***\n",
      "관광 : 섯알오름\n",
      "점심 : 헤이브라더\n",
      "관광 : 바당미술관\n",
      "관광 : 발자국화석공원\n",
      "저녁 : 헤이브라더\n",
      "관광 : 형제해안도로\n",
      "숙소 : JAY&CHLOE\n"
     ]
    },
    {
     "data": {
      "text/plain": [
       "['제주공항',\n",
       " '제주라프 짚라인',\n",
       " '카페동백',\n",
       " '민오름(조천읍)',\n",
       " '바늘오름',\n",
       " '더로맨틱',\n",
       " '동백동산',\n",
       " '제주조천스위스마을게스트하우스',\n",
       " '원당봉',\n",
       " '신촌덕인당',\n",
       " '알작지해변',\n",
       " '참살이마을 명도암 농어촌체험마을',\n",
       " '맥파이 브루어리',\n",
       " '월대천',\n",
       " '섬타임즈제주',\n",
       " '당산봉(당오름,차귀오름)',\n",
       " '차귀놀',\n",
       " '제주올레 13코스',\n",
       " '산양곶자왈',\n",
       " '토향',\n",
       " '생이기정',\n",
       " '하바나블루스',\n",
       " '섯알오름',\n",
       " '헤이브라더',\n",
       " '바당미술관',\n",
       " '발자국화석공원',\n",
       " '헤이브라더',\n",
       " '형제해안도로',\n",
       " 'JAY&CHLOE']"
      ]
     },
     "execution_count": 11,
     "metadata": {},
     "output_type": "execute_result"
    }
   ],
   "source": [
    "assemble(df, user)"
   ]
  },
  {
   "cell_type": "code",
   "execution_count": null,
   "metadata": {},
   "outputs": [],
   "source": []
  }
 ],
 "metadata": {
  "kernelspec": {
   "display_name": "Python 3",
   "language": "python",
   "name": "python3"
  },
  "language_info": {
   "codemirror_mode": {
    "name": "ipython",
    "version": 3
   },
   "file_extension": ".py",
   "mimetype": "text/x-python",
   "name": "python",
   "nbconvert_exporter": "python",
   "pygments_lexer": "ipython3",
   "version": "3.8.5"
  },
  "toc": {
   "base_numbering": 1,
   "nav_menu": {},
   "number_sections": true,
   "sideBar": true,
   "skip_h1_title": false,
   "title_cell": "Table of Contents",
   "title_sidebar": "Contents",
   "toc_cell": false,
   "toc_position": {},
   "toc_section_display": true,
   "toc_window_display": false
  }
 },
 "nbformat": 4,
 "nbformat_minor": 4
}
